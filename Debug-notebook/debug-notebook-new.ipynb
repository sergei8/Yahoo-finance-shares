{
 "cells": [
  {
   "cell_type": "markdown",
   "metadata": {},
   "source": [
    "### Functions"
   ]
  },
  {
   "cell_type": "code",
   "execution_count": 174,
   "metadata": {
    "code_folding": [],
    "run_control": {
     "marked": false
    }
   },
   "outputs": [],
   "source": [
    "# choose execl \n",
    "def choose_file():\n",
    "    \n",
    "    #return 'FFG Holdings+Opt 05-11-18 NEW' + '.xlsx'\n",
    "    return 'TDA 08-27-18' + '.xlsx'"
   ]
  },
  {
   "cell_type": "code",
   "execution_count": 94,
   "metadata": {
    "code_folding": [],
    "run_control": {
     "marked": false
    }
   },
   "outputs": [],
   "source": [
    "# input shares dates\n",
    "def get_date():\n",
    "    \n",
    "    # !IMPORTANT! add 1 day to period, because `get` returns previous day\n",
    "    return datetime.date(2018, 8, 28) + timedelta(days=1)  \n",
    "    #return datetime.datetime.now()\n"
   ]
  },
  {
   "cell_type": "code",
   "execution_count": 95,
   "metadata": {
    "code_folding": [],
    "run_control": {
     "marked": false
    }
   },
   "outputs": [],
   "source": [
    "# read xls into pandas table\n",
    "def create_table(file_name):\n",
    "    tables_list = pd.read_excel( file_name, sheetname=None)\n",
    "    \n",
    "    # get last worksheet from list\n",
    "    table = tables_list[list(tables_list.keys())[-1]]\n",
    "    \n",
    "    # clear nan rows\n",
    "    table = table[pd.isnull(table.SYMBOL) == False]\n",
    "    \n",
    "    # extract existing found-codes\n",
    "    symbl = table.SYMBOL.dropna().unique()\n",
    "    \n",
    "    return table, symbl  # return table and list of found market symbols"
   ]
  },
  {
   "cell_type": "code",
   "execution_count": 96,
   "metadata": {
    "code_folding": [],
    "run_control": {
     "marked": false
    }
   },
   "outputs": [],
   "source": [
    "# read and preprocess shares from yahoo on current date\n",
    "def read_shares(symbl, start, end):\n",
    "\n",
    "    # set date interval\n",
    "    start = end = get_date()\n",
    "\n",
    "    # download into dataPanel\n",
    "    shares_panel = web.get_data_yahoo(list(symbl), start, end)\n",
    " \n",
    "    # convert Panel to the Multyindexed frame\n",
    "    shares = shares_panel.to_frame()\n",
    "\n",
    "    # remove index level 0 (date)\n",
    "    shares.index = shares.index.droplevel(0)\n",
    "\n",
    "    # convert index into column\n",
    "    shares.reset_index(inplace=True)\n",
    "\n",
    "    # rename `minor` column\n",
    "    shares.rename(columns={'minor': 'SYMBOL'}, inplace=True)\n",
    "\n",
    "    return shares"
   ]
  },
  {
   "cell_type": "code",
   "execution_count": 178,
   "metadata": {
    "code_folding": [],
    "run_control": {
     "marked": false
    }
   },
   "outputs": [],
   "source": [
    "# create output xls from table and shares dataframes\n",
    "def create_output(table, shares, start):\n",
    "    \n",
    "    # remove unnesessary columns from shares\n",
    "    columns_to_drop = ['Close', 'High', 'Low', 'Open', 'Volume']\n",
    "    shares.drop(columns_to_drop, axis=1, inplace=True)\n",
    "    \n",
    "    # create table\n",
    "    table = pd.merge(left=table, right=shares, left_on='SYMBOL', right_on='SYMBOL')\n",
    "    \n",
    "     # reformat prices to 2 dec.digits\n",
    "    table['Adj Close'] = table['Adj Close'].map(lambda x: round(x, 2))\n",
    "    \n",
    "    # rename some columns\n",
    "    new_col_names = {'STOCKS':'STOCKS-BUY','Unnamed: 10':'STOCKS-SELL',\n",
    "                'CALLS':'CALLS-BUY','Unnamed: 12': 'CALLS-SELL',\n",
    "                'PUTTES':'PUTTES-BUY','Unnamed: 14': 'PUTTES-SELL'}\n",
    "    table.rename(columns=new_col_names, inplace=True)\n",
    "    \n",
    "    # insert `CURRENT DATE` column before `ADJ price`\n",
    "    table.insert(len(table.columns)-1,'CURRENT DATE', start)\n",
    "    \n",
    "    table['STRIKE UPSIDE'] = table['STRIKE UPSIDE %'] = None\n",
    "\n",
    "    \n",
    "    table.loc[table['TRX CODE'].str[0] == 'O', 'STRIKE UPSIDE'] = table['Adj Close'] - table['Strike  Price']\n",
    "    table.loc[table['TRX CODE'].str[0] == 'E', 'STRIKE UPSIDE'] = table['Adj Close'] - table['BASIS COST']\n",
    "    \n",
    "    table.loc[table['TRX CODE'].str[0] == 'O', 'STRIKE UPSIDE %'] = table['STRIKE UPSIDE'] / table['Strike  Price']\n",
    "    table.loc[table['TRX CODE'].str[0] == 'E', 'STRIKE UPSIDE %'] = table['STRIKE UPSIDE'] / table['BASIS COST']\n",
    "\n",
    "    # write new xls table\n",
    "    table.to_excel('result_' + file_name, index=False)\n",
    "    \n",
    "    return table\n"
   ]
  },
  {
   "cell_type": "markdown",
   "metadata": {},
   "source": [
    "### Start here"
   ]
  },
  {
   "cell_type": "code",
   "execution_count": 98,
   "metadata": {
    "code_folding": [],
    "run_control": {
     "marked": false
    }
   },
   "outputs": [],
   "source": [
    "# main part\n",
    "import os\n",
    "import pandas as pd\n",
    "#import pandas_datareader.data as web\n",
    "from pandas_datareader import data as web\n",
    "\n",
    "import fix_yahoo_finance as yf\n",
    "yf.pdr_override() # <== that's all it takes :-)\n",
    "\n",
    "# download dataframe\n",
    "#data = web.get_data_yahoo('AAPL', start=\"2018-05-10\", end=\"2018-05-10\")\n",
    "from datetime import date\n",
    "from datetime import datetime\n",
    "import datetime\n",
    "from datetime import timedelta"
   ]
  },
  {
   "cell_type": "code",
   "execution_count": 179,
   "metadata": {
    "code_folding": [],
    "run_control": {
     "marked": false
    },
    "scrolled": true
   },
   "outputs": [
    {
     "name": "stdout",
     "output_type": "stream",
     "text": [
      "\n",
      "work tables created...\n",
      "[*********************100%***********************]  31 of 31 downloaded\n",
      "shares delivered...\n",
      "output file created\n"
     ]
    }
   ],
   "source": [
    "# works chain\n",
    "file_name = choose_file()\n",
    "start = end = get_date()\n",
    "table, symbl = create_table(file_name)  # create pandas df\n",
    "print ('\\nwork tables created...')\n",
    "shares = read_shares(symbl, start, end)  # deliver shares from yahoo\n",
    "if shares.empty:\n",
    "    print 'can not grab shares from yahoo-finance\\ntry again in few minutes, please'\n",
    "    exit\n",
    "else:\n",
    "    print ('shares delivered...')\n",
    "    table = create_output(table, shares, start)  # create, reformat and write output xls\n",
    "    print ('output file created')\n"
   ]
  },
  {
   "cell_type": "code",
   "execution_count": 30,
   "metadata": {
    "collapsed": true
   },
   "outputs": [],
   "source": [
    "exit 1"
   ]
  },
  {
   "cell_type": "markdown",
   "metadata": {},
   "source": [
    "### Sandbox space"
   ]
  },
  {
   "cell_type": "code",
   "execution_count": 116,
   "metadata": {
    "run_control": {
     "marked": false
    },
    "scrolled": true
   },
   "outputs": [
    {
     "data": {
      "text/html": [
       "<div>\n",
       "<style>\n",
       "    .dataframe thead tr:only-child th {\n",
       "        text-align: right;\n",
       "    }\n",
       "\n",
       "    .dataframe thead th {\n",
       "        text-align: left;\n",
       "    }\n",
       "\n",
       "    .dataframe tbody tr th {\n",
       "        vertical-align: top;\n",
       "    }\n",
       "</style>\n",
       "<table border=\"1\" class=\"dataframe\">\n",
       "  <thead>\n",
       "    <tr style=\"text-align: right;\">\n",
       "      <th></th>\n",
       "      <th>SYMBOL</th>\n",
       "      <th>Adj Close</th>\n",
       "    </tr>\n",
       "  </thead>\n",
       "  <tbody>\n",
       "    <tr>\n",
       "      <th>0</th>\n",
       "      <td>AAPL</td>\n",
       "      <td>219.699997</td>\n",
       "    </tr>\n",
       "    <tr>\n",
       "      <th>1</th>\n",
       "      <td>AGN</td>\n",
       "      <td>187.720001</td>\n",
       "    </tr>\n",
       "    <tr>\n",
       "      <th>2</th>\n",
       "      <td>AMAT</td>\n",
       "      <td>43.400002</td>\n",
       "    </tr>\n",
       "  </tbody>\n",
       "</table>\n",
       "</div>"
      ],
      "text/plain": [
       "  SYMBOL   Adj Close\n",
       "0   AAPL  219.699997\n",
       "1    AGN  187.720001\n",
       "2   AMAT   43.400002"
      ]
     },
     "execution_count": 116,
     "metadata": {},
     "output_type": "execute_result"
    }
   ],
   "source": [
    "shares.head(3)"
   ]
  },
  {
   "cell_type": "code",
   "execution_count": 162,
   "metadata": {},
   "outputs": [],
   "source": [
    "table.loc[table['TRX  CODE'].str[0] == 'E', 'Quantity'] = 0"
   ]
  },
  {
   "cell_type": "code",
   "execution_count": 163,
   "metadata": {},
   "outputs": [],
   "source": [
    "table.iloc[0].SYMBOL=33333"
   ]
  },
  {
   "cell_type": "code",
   "execution_count": 171,
   "metadata": {},
   "outputs": [
    {
     "data": {
      "text/html": [
       "<div>\n",
       "<style>\n",
       "    .dataframe thead tr:only-child th {\n",
       "        text-align: right;\n",
       "    }\n",
       "\n",
       "    .dataframe thead th {\n",
       "        text-align: left;\n",
       "    }\n",
       "\n",
       "    .dataframe tbody tr th {\n",
       "        vertical-align: top;\n",
       "    }\n",
       "</style>\n",
       "<table border=\"1\" class=\"dataframe\">\n",
       "  <thead>\n",
       "    <tr style=\"text-align: right;\">\n",
       "      <th></th>\n",
       "      <th>TRX Date</th>\n",
       "      <th>SYMBOL</th>\n",
       "      <th>Expir Date</th>\n",
       "      <th>TRX  CODE</th>\n",
       "      <th>Quantity</th>\n",
       "      <th>BASIS COST</th>\n",
       "      <th>Strike  Price</th>\n",
       "      <th>Call  Premium</th>\n",
       "      <th>Market at TRX</th>\n",
       "      <th>STOCKS-BUY</th>\n",
       "      <th>...</th>\n",
       "      <th>PUTTES-BUY</th>\n",
       "      <th>PUTTES-SELL</th>\n",
       "      <th>CASH</th>\n",
       "      <th>DIVDNT</th>\n",
       "      <th>Gain/ (Loss)</th>\n",
       "      <th>BALANCE</th>\n",
       "      <th>CURRENT DATE</th>\n",
       "      <th>Adj Close</th>\n",
       "      <th>STRIKE UPSIDE</th>\n",
       "      <th>STRIKE UPSIDE %</th>\n",
       "    </tr>\n",
       "  </thead>\n",
       "  <tbody>\n",
       "    <tr>\n",
       "      <th>0</th>\n",
       "      <td>2018-06-01</td>\n",
       "      <td>^DJI</td>\n",
       "      <td>NaT</td>\n",
       "      <td>^DJI</td>\n",
       "      <td>NaN</td>\n",
       "      <td>24824.01</td>\n",
       "      <td>NaN</td>\n",
       "      <td>NaN</td>\n",
       "      <td>NaT</td>\n",
       "      <td>NaN</td>\n",
       "      <td>...</td>\n",
       "      <td>NaN</td>\n",
       "      <td>NaN</td>\n",
       "      <td>NaN</td>\n",
       "      <td>NaN</td>\n",
       "      <td>NaN</td>\n",
       "      <td>NaN</td>\n",
       "      <td>2018-08-29</td>\n",
       "      <td>26064.02</td>\n",
       "      <td>None</td>\n",
       "      <td>None</td>\n",
       "    </tr>\n",
       "    <tr>\n",
       "      <th>1</th>\n",
       "      <td>2018-06-01</td>\n",
       "      <td>^GSPC</td>\n",
       "      <td>NaT</td>\n",
       "      <td>^GSPC</td>\n",
       "      <td>NaN</td>\n",
       "      <td>2695.81</td>\n",
       "      <td>NaN</td>\n",
       "      <td>NaN</td>\n",
       "      <td>NaT</td>\n",
       "      <td>NaN</td>\n",
       "      <td>...</td>\n",
       "      <td>NaN</td>\n",
       "      <td>NaN</td>\n",
       "      <td>NaN</td>\n",
       "      <td>NaN</td>\n",
       "      <td>NaN</td>\n",
       "      <td>NaN</td>\n",
       "      <td>2018-08-29</td>\n",
       "      <td>2897.52</td>\n",
       "      <td>None</td>\n",
       "      <td>None</td>\n",
       "    </tr>\n",
       "    <tr>\n",
       "      <th>2</th>\n",
       "      <td>2018-06-01</td>\n",
       "      <td>^IXIC</td>\n",
       "      <td>NaT</td>\n",
       "      <td>^IXIC</td>\n",
       "      <td>NaN</td>\n",
       "      <td>6511.34</td>\n",
       "      <td>NaN</td>\n",
       "      <td>NaN</td>\n",
       "      <td>NaT</td>\n",
       "      <td>NaN</td>\n",
       "      <td>...</td>\n",
       "      <td>NaN</td>\n",
       "      <td>NaN</td>\n",
       "      <td>NaN</td>\n",
       "      <td>NaN</td>\n",
       "      <td>NaN</td>\n",
       "      <td>NaN</td>\n",
       "      <td>2018-08-29</td>\n",
       "      <td>8030.04</td>\n",
       "      <td>None</td>\n",
       "      <td>None</td>\n",
       "    </tr>\n",
       "    <tr>\n",
       "      <th>3</th>\n",
       "      <td>2018-06-01</td>\n",
       "      <td>AAPL</td>\n",
       "      <td>NaT</td>\n",
       "      <td>EA</td>\n",
       "      <td>5000.0</td>\n",
       "      <td>174.48</td>\n",
       "      <td>NaN</td>\n",
       "      <td>NaN</td>\n",
       "      <td>2018-07-31</td>\n",
       "      <td>NaN</td>\n",
       "      <td>...</td>\n",
       "      <td>NaN</td>\n",
       "      <td>NaN</td>\n",
       "      <td>NaN</td>\n",
       "      <td>NaN</td>\n",
       "      <td>NaN</td>\n",
       "      <td>NaN</td>\n",
       "      <td>2018-08-29</td>\n",
       "      <td>219.70</td>\n",
       "      <td>None</td>\n",
       "      <td>None</td>\n",
       "    </tr>\n",
       "    <tr>\n",
       "      <th>4</th>\n",
       "      <td>2018-08-17</td>\n",
       "      <td>AAPL</td>\n",
       "      <td>2018-09-21</td>\n",
       "      <td>OC</td>\n",
       "      <td>50.0</td>\n",
       "      <td>1.82</td>\n",
       "      <td>225.0</td>\n",
       "      <td>NaN</td>\n",
       "      <td>NaT</td>\n",
       "      <td>NaN</td>\n",
       "      <td>...</td>\n",
       "      <td>NaN</td>\n",
       "      <td>NaN</td>\n",
       "      <td>NaN</td>\n",
       "      <td>NaN</td>\n",
       "      <td>NaN</td>\n",
       "      <td>NaN</td>\n",
       "      <td>2018-08-29</td>\n",
       "      <td>219.70</td>\n",
       "      <td>217.88</td>\n",
       "      <td>None</td>\n",
       "    </tr>\n",
       "    <tr>\n",
       "      <th>5</th>\n",
       "      <td>2018-06-01</td>\n",
       "      <td>AGN</td>\n",
       "      <td>NaT</td>\n",
       "      <td>EA</td>\n",
       "      <td>4000.0</td>\n",
       "      <td>163.99</td>\n",
       "      <td>187.5</td>\n",
       "      <td>NaN</td>\n",
       "      <td>2018-07-26</td>\n",
       "      <td>NaN</td>\n",
       "      <td>...</td>\n",
       "      <td>NaN</td>\n",
       "      <td>NaN</td>\n",
       "      <td>NaN</td>\n",
       "      <td>NaN</td>\n",
       "      <td>NaN</td>\n",
       "      <td>NaN</td>\n",
       "      <td>2018-08-29</td>\n",
       "      <td>187.72</td>\n",
       "      <td>None</td>\n",
       "      <td>None</td>\n",
       "    </tr>\n",
       "    <tr>\n",
       "      <th>6</th>\n",
       "      <td>2018-08-17</td>\n",
       "      <td>AGN</td>\n",
       "      <td>2018-09-21</td>\n",
       "      <td>PC</td>\n",
       "      <td>40.0</td>\n",
       "      <td>187.50</td>\n",
       "      <td>NaN</td>\n",
       "      <td>NaN</td>\n",
       "      <td>NaT</td>\n",
       "      <td>NaN</td>\n",
       "      <td>...</td>\n",
       "      <td>NaN</td>\n",
       "      <td>NaN</td>\n",
       "      <td>NaN</td>\n",
       "      <td>NaN</td>\n",
       "      <td>NaN</td>\n",
       "      <td>NaN</td>\n",
       "      <td>2018-08-29</td>\n",
       "      <td>187.72</td>\n",
       "      <td>None</td>\n",
       "      <td>None</td>\n",
       "    </tr>\n",
       "    <tr>\n",
       "      <th>7</th>\n",
       "      <td>2018-06-28</td>\n",
       "      <td>AMAT</td>\n",
       "      <td>NaT</td>\n",
       "      <td>EL</td>\n",
       "      <td>NaN</td>\n",
       "      <td>45.29</td>\n",
       "      <td>NaN</td>\n",
       "      <td>NaN</td>\n",
       "      <td>2018-08-16</td>\n",
       "      <td>NaN</td>\n",
       "      <td>...</td>\n",
       "      <td>NaN</td>\n",
       "      <td>NaN</td>\n",
       "      <td>NaN</td>\n",
       "      <td>NaN</td>\n",
       "      <td>NaN</td>\n",
       "      <td>NaN</td>\n",
       "      <td>2018-08-29</td>\n",
       "      <td>43.40</td>\n",
       "      <td>None</td>\n",
       "      <td>None</td>\n",
       "    </tr>\n",
       "    <tr>\n",
       "      <th>8</th>\n",
       "      <td>2018-06-01</td>\n",
       "      <td>BABA</td>\n",
       "      <td>NaT</td>\n",
       "      <td>EA</td>\n",
       "      <td>3000.0</td>\n",
       "      <td>186.00</td>\n",
       "      <td>NaN</td>\n",
       "      <td>NaN</td>\n",
       "      <td>2018-08-16</td>\n",
       "      <td>NaN</td>\n",
       "      <td>...</td>\n",
       "      <td>NaN</td>\n",
       "      <td>NaN</td>\n",
       "      <td>NaN</td>\n",
       "      <td>NaN</td>\n",
       "      <td>NaN</td>\n",
       "      <td>NaN</td>\n",
       "      <td>2018-08-29</td>\n",
       "      <td>178.19</td>\n",
       "      <td>None</td>\n",
       "      <td>None</td>\n",
       "    </tr>\n",
       "    <tr>\n",
       "      <th>9</th>\n",
       "      <td>2018-08-17</td>\n",
       "      <td>BABA</td>\n",
       "      <td>2018-09-21</td>\n",
       "      <td>OC</td>\n",
       "      <td>40.0</td>\n",
       "      <td>1.34</td>\n",
       "      <td>187.5</td>\n",
       "      <td>NaN</td>\n",
       "      <td>NaT</td>\n",
       "      <td>NaN</td>\n",
       "      <td>...</td>\n",
       "      <td>NaN</td>\n",
       "      <td>NaN</td>\n",
       "      <td>NaN</td>\n",
       "      <td>NaN</td>\n",
       "      <td>NaN</td>\n",
       "      <td>NaN</td>\n",
       "      <td>2018-08-29</td>\n",
       "      <td>178.19</td>\n",
       "      <td>176.85</td>\n",
       "      <td>None</td>\n",
       "    </tr>\n",
       "    <tr>\n",
       "      <th>10</th>\n",
       "      <td>2018-08-22</td>\n",
       "      <td>BAC</td>\n",
       "      <td>NaT</td>\n",
       "      <td>EB</td>\n",
       "      <td>11000.0</td>\n",
       "      <td>31.00</td>\n",
       "      <td>NaN</td>\n",
       "      <td>NaN</td>\n",
       "      <td>NaT</td>\n",
       "      <td>NaN</td>\n",
       "      <td>...</td>\n",
       "      <td>NaN</td>\n",
       "      <td>NaN</td>\n",
       "      <td>NaN</td>\n",
       "      <td>NaN</td>\n",
       "      <td>NaN</td>\n",
       "      <td>NaN</td>\n",
       "      <td>2018-08-29</td>\n",
       "      <td>31.27</td>\n",
       "      <td>None</td>\n",
       "      <td>None</td>\n",
       "    </tr>\n",
       "    <tr>\n",
       "      <th>11</th>\n",
       "      <td>2018-08-22</td>\n",
       "      <td>BAC</td>\n",
       "      <td>NaT</td>\n",
       "      <td>OC</td>\n",
       "      <td>110.0</td>\n",
       "      <td>0.32</td>\n",
       "      <td>31.5</td>\n",
       "      <td>NaN</td>\n",
       "      <td>NaT</td>\n",
       "      <td>NaN</td>\n",
       "      <td>...</td>\n",
       "      <td>NaN</td>\n",
       "      <td>NaN</td>\n",
       "      <td>NaN</td>\n",
       "      <td>NaN</td>\n",
       "      <td>NaN</td>\n",
       "      <td>NaN</td>\n",
       "      <td>2018-08-29</td>\n",
       "      <td>31.27</td>\n",
       "      <td>30.95</td>\n",
       "      <td>None</td>\n",
       "    </tr>\n",
       "    <tr>\n",
       "      <th>12</th>\n",
       "      <td>2018-08-23</td>\n",
       "      <td>BUD</td>\n",
       "      <td>2018-09-21</td>\n",
       "      <td>OC</td>\n",
       "      <td>30.0</td>\n",
       "      <td>0.90</td>\n",
       "      <td>100.0</td>\n",
       "      <td>NaN</td>\n",
       "      <td>NaT</td>\n",
       "      <td>NaN</td>\n",
       "      <td>...</td>\n",
       "      <td>NaN</td>\n",
       "      <td>NaN</td>\n",
       "      <td>NaN</td>\n",
       "      <td>NaN</td>\n",
       "      <td>NaN</td>\n",
       "      <td>NaN</td>\n",
       "      <td>2018-08-29</td>\n",
       "      <td>97.99</td>\n",
       "      <td>97.09</td>\n",
       "      <td>None</td>\n",
       "    </tr>\n",
       "    <tr>\n",
       "      <th>13</th>\n",
       "      <td>2018-06-18</td>\n",
       "      <td>BUD</td>\n",
       "      <td>NaT</td>\n",
       "      <td>EB</td>\n",
       "      <td>2000.0</td>\n",
       "      <td>96.02</td>\n",
       "      <td>NaN</td>\n",
       "      <td>NaN</td>\n",
       "      <td>2018-07-26</td>\n",
       "      <td>NaN</td>\n",
       "      <td>...</td>\n",
       "      <td>NaN</td>\n",
       "      <td>NaN</td>\n",
       "      <td>NaN</td>\n",
       "      <td>NaN</td>\n",
       "      <td>NaN</td>\n",
       "      <td>NaN</td>\n",
       "      <td>2018-08-29</td>\n",
       "      <td>97.99</td>\n",
       "      <td>None</td>\n",
       "      <td>None</td>\n",
       "    </tr>\n",
       "    <tr>\n",
       "      <th>14</th>\n",
       "      <td>2018-05-09</td>\n",
       "      <td>BX</td>\n",
       "      <td>2018-09-21</td>\n",
       "      <td>OC</td>\n",
       "      <td>50.0</td>\n",
       "      <td>0.70</td>\n",
       "      <td>34.0</td>\n",
       "      <td>NaN</td>\n",
       "      <td>NaT</td>\n",
       "      <td>NaN</td>\n",
       "      <td>...</td>\n",
       "      <td>NaN</td>\n",
       "      <td>NaN</td>\n",
       "      <td>NaN</td>\n",
       "      <td>NaN</td>\n",
       "      <td>NaN</td>\n",
       "      <td>NaN</td>\n",
       "      <td>2018-08-29</td>\n",
       "      <td>36.72</td>\n",
       "      <td>36.02</td>\n",
       "      <td>None</td>\n",
       "    </tr>\n",
       "  </tbody>\n",
       "</table>\n",
       "<p>15 rows × 23 columns</p>\n",
       "</div>"
      ],
      "text/plain": [
       "    TRX Date  SYMBOL Expir Date TRX  CODE  Quantity  BASIS COST\\n  \\\n",
       "0  2018-06-01   ^DJI        NaT      ^DJI       NaN      24824.01   \n",
       "1  2018-06-01  ^GSPC        NaT     ^GSPC       NaN       2695.81   \n",
       "2  2018-06-01  ^IXIC        NaT     ^IXIC       NaN       6511.34   \n",
       "3  2018-06-01   AAPL        NaT        EA    5000.0        174.48   \n",
       "4  2018-08-17   AAPL 2018-09-21        OC      50.0          1.82   \n",
       "5  2018-06-01    AGN        NaT        EA    4000.0        163.99   \n",
       "6  2018-08-17    AGN 2018-09-21        PC      40.0        187.50   \n",
       "7  2018-06-28   AMAT        NaT        EL       NaN         45.29   \n",
       "8  2018-06-01   BABA        NaT        EA    3000.0        186.00   \n",
       "9  2018-08-17   BABA 2018-09-21        OC      40.0          1.34   \n",
       "10 2018-08-22    BAC        NaT        EB   11000.0         31.00   \n",
       "11 2018-08-22    BAC        NaT        OC     110.0          0.32   \n",
       "12 2018-08-23    BUD 2018-09-21        OC      30.0          0.90   \n",
       "13 2018-06-18    BUD        NaT        EB    2000.0         96.02   \n",
       "14 2018-05-09     BX 2018-09-21        OC      50.0          0.70   \n",
       "\n",
       "    Strike  Price  Call  Premium Market at TRX  STOCKS-BUY       ...        \\\n",
       "0             NaN            NaN           NaT         NaN       ...         \n",
       "1             NaN            NaN           NaT         NaN       ...         \n",
       "2             NaN            NaN           NaT         NaN       ...         \n",
       "3             NaN            NaN    2018-07-31         NaN       ...         \n",
       "4           225.0            NaN           NaT         NaN       ...         \n",
       "5           187.5            NaN    2018-07-26         NaN       ...         \n",
       "6             NaN            NaN           NaT         NaN       ...         \n",
       "7             NaN            NaN    2018-08-16         NaN       ...         \n",
       "8             NaN            NaN    2018-08-16         NaN       ...         \n",
       "9           187.5            NaN           NaT         NaN       ...         \n",
       "10            NaN            NaN           NaT         NaN       ...         \n",
       "11           31.5            NaN           NaT         NaN       ...         \n",
       "12          100.0            NaN           NaT         NaN       ...         \n",
       "13            NaN            NaN    2018-07-26         NaN       ...         \n",
       "14           34.0            NaN           NaT         NaN       ...         \n",
       "\n",
       "    PUTTES-BUY  PUTTES-SELL  CASH  DIVDNT  Gain/ (Loss)  BALANCE  \\\n",
       "0          NaN          NaN   NaN     NaN           NaN      NaN   \n",
       "1          NaN          NaN   NaN     NaN           NaN      NaN   \n",
       "2          NaN          NaN   NaN     NaN           NaN      NaN   \n",
       "3          NaN          NaN   NaN     NaN           NaN      NaN   \n",
       "4          NaN          NaN   NaN     NaN           NaN      NaN   \n",
       "5          NaN          NaN   NaN     NaN           NaN      NaN   \n",
       "6          NaN          NaN   NaN     NaN           NaN      NaN   \n",
       "7          NaN          NaN   NaN     NaN           NaN      NaN   \n",
       "8          NaN          NaN   NaN     NaN           NaN      NaN   \n",
       "9          NaN          NaN   NaN     NaN           NaN      NaN   \n",
       "10         NaN          NaN   NaN     NaN           NaN      NaN   \n",
       "11         NaN          NaN   NaN     NaN           NaN      NaN   \n",
       "12         NaN          NaN   NaN     NaN           NaN      NaN   \n",
       "13         NaN          NaN   NaN     NaN           NaN      NaN   \n",
       "14         NaN          NaN   NaN     NaN           NaN      NaN   \n",
       "\n",
       "    CURRENT DATE  Adj Close  STRIKE UPSIDE STRIKE UPSIDE %  \n",
       "0     2018-08-29   26064.02           None            None  \n",
       "1     2018-08-29    2897.52           None            None  \n",
       "2     2018-08-29    8030.04           None            None  \n",
       "3     2018-08-29     219.70           None            None  \n",
       "4     2018-08-29     219.70         217.88            None  \n",
       "5     2018-08-29     187.72           None            None  \n",
       "6     2018-08-29     187.72           None            None  \n",
       "7     2018-08-29      43.40           None            None  \n",
       "8     2018-08-29     178.19           None            None  \n",
       "9     2018-08-29     178.19         176.85            None  \n",
       "10    2018-08-29      31.27           None            None  \n",
       "11    2018-08-29      31.27          30.95            None  \n",
       "12    2018-08-29      97.99          97.09            None  \n",
       "13    2018-08-29      97.99           None            None  \n",
       "14    2018-08-29      36.72          36.02            None  \n",
       "\n",
       "[15 rows x 23 columns]"
      ]
     },
     "execution_count": 171,
     "metadata": {},
     "output_type": "execute_result"
    }
   ],
   "source": [
    "table[:15]"
   ]
  },
  {
   "cell_type": "code",
   "execution_count": null,
   "metadata": {},
   "outputs": [],
   "source": []
  },
  {
   "cell_type": "code",
   "execution_count": 105,
   "metadata": {},
   "outputs": [
    {
     "data": {
      "text/plain": [
       "Index([u'TRX Date ', u'SYMBOL', u'Expir Date', u'TRX  CODE', u'Quantity',\n",
       "       u'BASIS COST\\n', u'Strike  Price', u'Call  Premium', u'Market at TRX',\n",
       "       u'STOCKS-BUY', u'STOCKS-SELL', u'CALLS-BUY', u'CALLS-SELL',\n",
       "       u'PUTTES-BUY', u'PUTTES-SELL', u'CASH', u'DIVDNT', u'Gain/ (Loss)',\n",
       "       u'BALANCE'],\n",
       "      dtype='object')"
      ]
     },
     "execution_count": 105,
     "metadata": {},
     "output_type": "execute_result"
    }
   ],
   "source": [
    "table.columns"
   ]
  },
  {
   "cell_type": "code",
   "execution_count": 21,
   "metadata": {
    "collapsed": true,
    "run_control": {
     "marked": false
    }
   },
   "outputs": [],
   "source": [
    "table_1 = pd.merge(left=table, right=shares_1, left_on='SYMBOL', right_on='SYMBOL')"
   ]
  },
  {
   "cell_type": "code",
   "execution_count": 44,
   "metadata": {},
   "outputs": [
    {
     "data": {
      "text/plain": [
       "pandas._libs.tslib.Timestamp"
      ]
     },
     "execution_count": 44,
     "metadata": {},
     "output_type": "execute_result"
    }
   ],
   "source": [
    "type(table['TRX Date '][2])"
   ]
  },
  {
   "cell_type": "code",
   "execution_count": 47,
   "metadata": {},
   "outputs": [],
   "source": [
    "a = table['TRX Date '][2]"
   ]
  },
  {
   "cell_type": "code",
   "execution_count": 64,
   "metadata": {},
   "outputs": [
    {
     "data": {
      "text/plain": [
       "'12 22 2017'"
      ]
     },
     "execution_count": 64,
     "metadata": {},
     "output_type": "execute_result"
    }
   ],
   "source": [
    "b"
   ]
  },
  {
   "cell_type": "code",
   "execution_count": 62,
   "metadata": {},
   "outputs": [],
   "source": [
    "b = a.strftime('%m %d %Y')"
   ]
  },
  {
   "cell_type": "code",
   "execution_count": 63,
   "metadata": {},
   "outputs": [
    {
     "name": "stdout",
     "output_type": "stream",
     "text": [
      "2017-12-22 00:00:00\n"
     ]
    }
   ],
   "source": [
    "print pd.to_datetime(b,format='%m %d %Y')"
   ]
  },
  {
   "cell_type": "code",
   "execution_count": null,
   "metadata": {
    "collapsed": true
   },
   "outputs": [],
   "source": []
  },
  {
   "cell_type": "code",
   "execution_count": 34,
   "metadata": {
    "collapsed": true,
    "run_control": {
     "marked": false
    }
   },
   "outputs": [],
   "source": [
    "new_col_names = {'STOCKS':'STOCKS-BUY','Unnamed: 10':'STOCKS-SELL',\n",
    "                'CALLS':'CALLS-BUY','Unnamed: 12': 'CALLS-SELL',\n",
    "                'PUTTES':'PUTTES-BUY','Unnamed: 14': 'PUTTES-SELL'}"
   ]
  },
  {
   "cell_type": "code",
   "execution_count": 38,
   "metadata": {
    "collapsed": true,
    "run_control": {
     "marked": false
    }
   },
   "outputs": [],
   "source": [
    "table_1.rename(columns=new_col_names, inplace=True)"
   ]
  },
  {
   "cell_type": "code",
   "execution_count": 39,
   "metadata": {
    "collapsed": true,
    "run_control": {
     "marked": false
    }
   },
   "outputs": [],
   "source": [
    "table_1.to_excel('result_' + file_name, index=False)"
   ]
  },
  {
   "cell_type": "code",
   "execution_count": null,
   "metadata": {
    "collapsed": true,
    "run_control": {
     "marked": false
    }
   },
   "outputs": [],
   "source": [
    "shares_panel = web.get_data_yahoo(list(symbl), start, end)"
   ]
  },
  {
   "cell_type": "code",
   "execution_count": 13,
   "metadata": {
    "run_control": {
     "marked": false
    }
   },
   "outputs": [
    {
     "ename": "NotImplementedError",
     "evalue": "data_source='morningstar' is not implemented",
     "output_type": "error",
     "traceback": [
      "\u001b[0;31m---------------------------------------------------------------------------\u001b[0m",
      "\u001b[0;31mNotImplementedError\u001b[0m                       Traceback (most recent call last)",
      "\u001b[0;32m<ipython-input-13-f6c3551cd356>\u001b[0m in \u001b[0;36m<module>\u001b[0;34m()\u001b[0m\n\u001b[0;32m----> 1\u001b[0;31m \u001b[0mf\u001b[0m \u001b[0;34m=\u001b[0m \u001b[0mweb\u001b[0m\u001b[0;34m.\u001b[0m\u001b[0mDataReader\u001b[0m\u001b[0;34m(\u001b[0m\u001b[0;34m'F'\u001b[0m\u001b[0;34m,\u001b[0m \u001b[0;34m'morningstar'\u001b[0m\u001b[0;34m,\u001b[0m \u001b[0mstart\u001b[0m\u001b[0;34m,\u001b[0m \u001b[0mend\u001b[0m\u001b[0;34m)\u001b[0m\u001b[0;34m\u001b[0m\u001b[0m\n\u001b[0m",
      "\u001b[0;32m/Users/sergey/anaconda/lib/python2.7/site-packages/pandas_datareader/data.pyc\u001b[0m in \u001b[0;36mDataReader\u001b[0;34m(name, data_source, start, end, retry_count, pause, session, access_key)\u001b[0m\n\u001b[1;32m    173\u001b[0m     \u001b[0;32melse\u001b[0m\u001b[0;34m:\u001b[0m\u001b[0;34m\u001b[0m\u001b[0m\n\u001b[1;32m    174\u001b[0m         \u001b[0mmsg\u001b[0m \u001b[0;34m=\u001b[0m \u001b[0;34m\"data_source=%r is not implemented\"\u001b[0m \u001b[0;34m%\u001b[0m \u001b[0mdata_source\u001b[0m\u001b[0;34m\u001b[0m\u001b[0m\n\u001b[0;32m--> 175\u001b[0;31m         \u001b[0;32mraise\u001b[0m \u001b[0mNotImplementedError\u001b[0m\u001b[0;34m(\u001b[0m\u001b[0mmsg\u001b[0m\u001b[0;34m)\u001b[0m\u001b[0;34m\u001b[0m\u001b[0m\n\u001b[0m\u001b[1;32m    176\u001b[0m \u001b[0;34m\u001b[0m\u001b[0m\n\u001b[1;32m    177\u001b[0m \u001b[0;34m\u001b[0m\u001b[0m\n",
      "\u001b[0;31mNotImplementedError\u001b[0m: data_source='morningstar' is not implemented"
     ]
    }
   ],
   "source": [
    "f = web.DataReader('F', 'morningstar', start, end)"
   ]
  },
  {
   "cell_type": "code",
   "execution_count": 66,
   "metadata": {
    "run_control": {
     "marked": false
    }
   },
   "outputs": [
    {
     "data": {
      "text/html": [
       "<div>\n",
       "<style>\n",
       "    .dataframe thead tr:only-child th {\n",
       "        text-align: right;\n",
       "    }\n",
       "\n",
       "    .dataframe thead th {\n",
       "        text-align: left;\n",
       "    }\n",
       "\n",
       "    .dataframe tbody tr th {\n",
       "        vertical-align: top;\n",
       "    }\n",
       "</style>\n",
       "<table border=\"1\" class=\"dataframe\">\n",
       "  <thead>\n",
       "    <tr style=\"text-align: right;\">\n",
       "      <th></th>\n",
       "      <th></th>\n",
       "      <th>Close</th>\n",
       "      <th>High</th>\n",
       "      <th>Low</th>\n",
       "      <th>Open</th>\n",
       "      <th>Volume</th>\n",
       "    </tr>\n",
       "    <tr>\n",
       "      <th>Symbol</th>\n",
       "      <th>Date</th>\n",
       "      <th></th>\n",
       "      <th></th>\n",
       "      <th></th>\n",
       "      <th></th>\n",
       "      <th></th>\n",
       "    </tr>\n",
       "  </thead>\n",
       "  <tbody>\n",
       "    <tr>\n",
       "      <th rowspan=\"2\" valign=\"top\">F</th>\n",
       "      <th>2018-05-09</th>\n",
       "      <td>11.06</td>\n",
       "      <td>11.28</td>\n",
       "      <td>11.02</td>\n",
       "      <td>11.21</td>\n",
       "      <td>43731958</td>\n",
       "    </tr>\n",
       "    <tr>\n",
       "      <th>2018-05-10</th>\n",
       "      <td>11.21</td>\n",
       "      <td>11.25</td>\n",
       "      <td>11.02</td>\n",
       "      <td>11.04</td>\n",
       "      <td>31519940</td>\n",
       "    </tr>\n",
       "  </tbody>\n",
       "</table>\n",
       "</div>"
      ],
      "text/plain": [
       "                   Close   High    Low   Open    Volume\n",
       "Symbol Date                                            \n",
       "F      2018-05-09  11.06  11.28  11.02  11.21  43731958\n",
       "       2018-05-10  11.21  11.25  11.02  11.04  31519940"
      ]
     },
     "execution_count": 66,
     "metadata": {},
     "output_type": "execute_result"
    }
   ],
   "source": [
    "f"
   ]
  },
  {
   "cell_type": "code",
   "execution_count": 187,
   "metadata": {
    "run_control": {
     "marked": false
    }
   },
   "outputs": [
    {
     "data": {
      "text/html": [
       "<div>\n",
       "<style>\n",
       "    .dataframe thead tr:only-child th {\n",
       "        text-align: right;\n",
       "    }\n",
       "\n",
       "    .dataframe thead th {\n",
       "        text-align: left;\n",
       "    }\n",
       "\n",
       "    .dataframe tbody tr th {\n",
       "        vertical-align: top;\n",
       "    }\n",
       "</style>\n",
       "<table border=\"1\" class=\"dataframe\">\n",
       "  <thead>\n",
       "    <tr style=\"text-align: right;\">\n",
       "      <th></th>\n",
       "      <th>symbl</th>\n",
       "      <th>Adj Close</th>\n",
       "      <th>Close</th>\n",
       "      <th>High</th>\n",
       "      <th>Low</th>\n",
       "      <th>Open</th>\n",
       "      <th>Current Date</th>\n",
       "    </tr>\n",
       "  </thead>\n",
       "  <tbody>\n",
       "    <tr>\n",
       "      <th>0</th>\n",
       "      <td>ABT</td>\n",
       "      <td>61.720001</td>\n",
       "      <td>61.720001</td>\n",
       "      <td>64.160004</td>\n",
       "      <td>60.740002</td>\n",
       "      <td>61.000000</td>\n",
       "      <td>2018-01-24</td>\n",
       "    </tr>\n",
       "    <tr>\n",
       "      <th>1</th>\n",
       "      <td>BX</td>\n",
       "      <td>36.080002</td>\n",
       "      <td>36.080002</td>\n",
       "      <td>36.330002</td>\n",
       "      <td>35.680000</td>\n",
       "      <td>36.250000</td>\n",
       "      <td>2018-01-24</td>\n",
       "    </tr>\n",
       "    <tr>\n",
       "      <th>2</th>\n",
       "      <td>CMCSA</td>\n",
       "      <td>42.990002</td>\n",
       "      <td>42.990002</td>\n",
       "      <td>44.000000</td>\n",
       "      <td>41.570000</td>\n",
       "      <td>42.700001</td>\n",
       "      <td>2018-01-24</td>\n",
       "    </tr>\n",
       "    <tr>\n",
       "      <th>3</th>\n",
       "      <td>CVX</td>\n",
       "      <td>131.389999</td>\n",
       "      <td>131.389999</td>\n",
       "      <td>132.669998</td>\n",
       "      <td>131.070007</td>\n",
       "      <td>131.380005</td>\n",
       "      <td>2018-01-24</td>\n",
       "    </tr>\n",
       "    <tr>\n",
       "      <th>4</th>\n",
       "      <td>MDT</td>\n",
       "      <td>85.760002</td>\n",
       "      <td>85.760002</td>\n",
       "      <td>86.129997</td>\n",
       "      <td>85.160004</td>\n",
       "      <td>85.830002</td>\n",
       "      <td>2018-01-24</td>\n",
       "    </tr>\n",
       "    <tr>\n",
       "      <th>5</th>\n",
       "      <td>MS</td>\n",
       "      <td>57.240002</td>\n",
       "      <td>57.240002</td>\n",
       "      <td>57.730000</td>\n",
       "      <td>56.900002</td>\n",
       "      <td>57.209999</td>\n",
       "      <td>2018-01-24</td>\n",
       "    </tr>\n",
       "    <tr>\n",
       "      <th>6</th>\n",
       "      <td>PM</td>\n",
       "      <td>110.599998</td>\n",
       "      <td>110.599998</td>\n",
       "      <td>110.889999</td>\n",
       "      <td>109.559998</td>\n",
       "      <td>109.559998</td>\n",
       "      <td>2018-01-24</td>\n",
       "    </tr>\n",
       "    <tr>\n",
       "      <th>7</th>\n",
       "      <td>SUN</td>\n",
       "      <td>32.540001</td>\n",
       "      <td>32.540001</td>\n",
       "      <td>33.040001</td>\n",
       "      <td>32.419998</td>\n",
       "      <td>32.529999</td>\n",
       "      <td>2018-01-24</td>\n",
       "    </tr>\n",
       "    <tr>\n",
       "      <th>8</th>\n",
       "      <td>UN</td>\n",
       "      <td>58.240002</td>\n",
       "      <td>58.240002</td>\n",
       "      <td>58.320000</td>\n",
       "      <td>57.990002</td>\n",
       "      <td>58.279999</td>\n",
       "      <td>2018-01-24</td>\n",
       "    </tr>\n",
       "  </tbody>\n",
       "</table>\n",
       "</div>"
      ],
      "text/plain": [
       "   symbl   Adj Close       Close        High         Low        Open  \\\n",
       "0    ABT   61.720001   61.720001   64.160004   60.740002   61.000000   \n",
       "1     BX   36.080002   36.080002   36.330002   35.680000   36.250000   \n",
       "2  CMCSA   42.990002   42.990002   44.000000   41.570000   42.700001   \n",
       "3    CVX  131.389999  131.389999  132.669998  131.070007  131.380005   \n",
       "4    MDT   85.760002   85.760002   86.129997   85.160004   85.830002   \n",
       "5     MS   57.240002   57.240002   57.730000   56.900002   57.209999   \n",
       "6     PM  110.599998  110.599998  110.889999  109.559998  109.559998   \n",
       "7    SUN   32.540001   32.540001   33.040001   32.419998   32.529999   \n",
       "8     UN   58.240002   58.240002   58.320000   57.990002   58.279999   \n",
       "\n",
       "  Current Date  \n",
       "0   2018-01-24  \n",
       "1   2018-01-24  \n",
       "2   2018-01-24  \n",
       "3   2018-01-24  \n",
       "4   2018-01-24  \n",
       "5   2018-01-24  \n",
       "6   2018-01-24  \n",
       "7   2018-01-24  \n",
       "8   2018-01-24  "
      ]
     },
     "execution_count": 187,
     "metadata": {},
     "output_type": "execute_result"
    }
   ],
   "source": [
    "shares"
   ]
  },
  {
   "cell_type": "code",
   "execution_count": 14,
   "metadata": {
    "run_control": {
     "marked": false
    }
   },
   "outputs": [
    {
     "data": {
      "text/plain": [
       "array([u'CMCSA', u'SUN', u'CVX', u'MDT', u'ABT', u'BX', u'PM', u'UN', u'MS'], dtype=object)"
      ]
     },
     "execution_count": 14,
     "metadata": {},
     "output_type": "execute_result"
    }
   ],
   "source": [
    "symbl"
   ]
  },
  {
   "cell_type": "code",
   "execution_count": 163,
   "metadata": {
    "collapsed": true,
    "run_control": {
     "marked": false
    }
   },
   "outputs": [],
   "source": [
    "panel = web.DataReader(symbl, 'yahoo', start_date, end_date)"
   ]
  },
  {
   "cell_type": "code",
   "execution_count": 114,
   "metadata": {
    "run_control": {
     "marked": false
    }
   },
   "outputs": [
    {
     "data": {
      "text/plain": [
       "Timestamp('2018-01-24 00:00:00')"
      ]
     },
     "execution_count": 114,
     "metadata": {},
     "output_type": "execute_result"
    }
   ],
   "source": [
    "aaa.index.levels[0][0]"
   ]
  },
  {
   "cell_type": "code",
   "execution_count": 177,
   "metadata": {
    "run_control": {
     "marked": false
    }
   },
   "outputs": [
    {
     "data": {
      "text/plain": [
       "FrozenList([u'Date', u'minor'])"
      ]
     },
     "execution_count": 177,
     "metadata": {},
     "output_type": "execute_result"
    }
   ],
   "source": [
    "aaa.index.names"
   ]
  },
  {
   "cell_type": "code",
   "execution_count": 188,
   "metadata": {
    "run_control": {
     "marked": false
    }
   },
   "outputs": [
    {
     "data": {
      "text/html": [
       "<div>\n",
       "<style>\n",
       "    .dataframe thead tr:only-child th {\n",
       "        text-align: right;\n",
       "    }\n",
       "\n",
       "    .dataframe thead th {\n",
       "        text-align: left;\n",
       "    }\n",
       "\n",
       "    .dataframe tbody tr th {\n",
       "        vertical-align: top;\n",
       "    }\n",
       "</style>\n",
       "<table border=\"1\" class=\"dataframe\">\n",
       "  <thead>\n",
       "    <tr style=\"text-align: right;\">\n",
       "      <th></th>\n",
       "      <th></th>\n",
       "      <th>Adj Close</th>\n",
       "      <th>Close</th>\n",
       "      <th>High</th>\n",
       "      <th>Low</th>\n",
       "      <th>Open</th>\n",
       "      <th>Volume</th>\n",
       "    </tr>\n",
       "    <tr>\n",
       "      <th>Date</th>\n",
       "      <th>minor</th>\n",
       "      <th></th>\n",
       "      <th></th>\n",
       "      <th></th>\n",
       "      <th></th>\n",
       "      <th></th>\n",
       "      <th></th>\n",
       "    </tr>\n",
       "  </thead>\n",
       "  <tbody>\n",
       "    <tr>\n",
       "      <th rowspan=\"9\" valign=\"top\">2018-01-24</th>\n",
       "      <th>ABT</th>\n",
       "      <td>61.720001</td>\n",
       "      <td>61.720001</td>\n",
       "      <td>64.160004</td>\n",
       "      <td>60.740002</td>\n",
       "      <td>61.000000</td>\n",
       "      <td>11704900.0</td>\n",
       "    </tr>\n",
       "    <tr>\n",
       "      <th>BX</th>\n",
       "      <td>36.080002</td>\n",
       "      <td>36.080002</td>\n",
       "      <td>36.330002</td>\n",
       "      <td>35.680000</td>\n",
       "      <td>36.250000</td>\n",
       "      <td>5629000.0</td>\n",
       "    </tr>\n",
       "    <tr>\n",
       "      <th>CMCSA</th>\n",
       "      <td>42.990002</td>\n",
       "      <td>42.990002</td>\n",
       "      <td>44.000000</td>\n",
       "      <td>41.570000</td>\n",
       "      <td>42.700001</td>\n",
       "      <td>48918800.0</td>\n",
       "    </tr>\n",
       "    <tr>\n",
       "      <th>CVX</th>\n",
       "      <td>131.389999</td>\n",
       "      <td>131.389999</td>\n",
       "      <td>132.669998</td>\n",
       "      <td>131.070007</td>\n",
       "      <td>131.380005</td>\n",
       "      <td>6868200.0</td>\n",
       "    </tr>\n",
       "    <tr>\n",
       "      <th>MDT</th>\n",
       "      <td>85.760002</td>\n",
       "      <td>85.760002</td>\n",
       "      <td>86.129997</td>\n",
       "      <td>85.160004</td>\n",
       "      <td>85.830002</td>\n",
       "      <td>5680200.0</td>\n",
       "    </tr>\n",
       "    <tr>\n",
       "      <th>MS</th>\n",
       "      <td>57.240002</td>\n",
       "      <td>57.240002</td>\n",
       "      <td>57.730000</td>\n",
       "      <td>56.900002</td>\n",
       "      <td>57.209999</td>\n",
       "      <td>8403600.0</td>\n",
       "    </tr>\n",
       "    <tr>\n",
       "      <th>PM</th>\n",
       "      <td>110.599998</td>\n",
       "      <td>110.599998</td>\n",
       "      <td>110.889999</td>\n",
       "      <td>109.559998</td>\n",
       "      <td>109.559998</td>\n",
       "      <td>4404100.0</td>\n",
       "    </tr>\n",
       "    <tr>\n",
       "      <th>SUN</th>\n",
       "      <td>32.540001</td>\n",
       "      <td>32.540001</td>\n",
       "      <td>33.040001</td>\n",
       "      <td>32.419998</td>\n",
       "      <td>32.529999</td>\n",
       "      <td>490200.0</td>\n",
       "    </tr>\n",
       "    <tr>\n",
       "      <th>UN</th>\n",
       "      <td>58.240002</td>\n",
       "      <td>58.240002</td>\n",
       "      <td>58.320000</td>\n",
       "      <td>57.990002</td>\n",
       "      <td>58.279999</td>\n",
       "      <td>1281200.0</td>\n",
       "    </tr>\n",
       "  </tbody>\n",
       "</table>\n",
       "</div>"
      ],
      "text/plain": [
       "                   Adj Close       Close        High         Low        Open  \\\n",
       "Date       minor                                                               \n",
       "2018-01-24 ABT     61.720001   61.720001   64.160004   60.740002   61.000000   \n",
       "           BX      36.080002   36.080002   36.330002   35.680000   36.250000   \n",
       "           CMCSA   42.990002   42.990002   44.000000   41.570000   42.700001   \n",
       "           CVX    131.389999  131.389999  132.669998  131.070007  131.380005   \n",
       "           MDT     85.760002   85.760002   86.129997   85.160004   85.830002   \n",
       "           MS      57.240002   57.240002   57.730000   56.900002   57.209999   \n",
       "           PM     110.599998  110.599998  110.889999  109.559998  109.559998   \n",
       "           SUN     32.540001   32.540001   33.040001   32.419998   32.529999   \n",
       "           UN      58.240002   58.240002   58.320000   57.990002   58.279999   \n",
       "\n",
       "                      Volume  \n",
       "Date       minor              \n",
       "2018-01-24 ABT    11704900.0  \n",
       "           BX      5629000.0  \n",
       "           CMCSA  48918800.0  \n",
       "           CVX     6868200.0  \n",
       "           MDT     5680200.0  \n",
       "           MS      8403600.0  \n",
       "           PM      4404100.0  \n",
       "           SUN      490200.0  \n",
       "           UN      1281200.0  "
      ]
     },
     "execution_count": 188,
     "metadata": {},
     "output_type": "execute_result"
    }
   ],
   "source": [
    "aaa.drop(start_date - timedelta(days=1) , level=0, axis=0)"
   ]
  },
  {
   "cell_type": "code",
   "execution_count": 149,
   "metadata": {
    "collapsed": true,
    "run_control": {
     "marked": false
    }
   },
   "outputs": [],
   "source": [
    "from datetime import timedelta"
   ]
  },
  {
   "cell_type": "code",
   "execution_count": 151,
   "metadata": {
    "run_control": {
     "marked": false
    }
   },
   "outputs": [
    {
     "data": {
      "text/plain": [
       "datetime.date(2018, 1, 23)"
      ]
     },
     "execution_count": 151,
     "metadata": {},
     "output_type": "execute_result"
    }
   ],
   "source": [
    "start_date - timedelta(days=1)"
   ]
  },
  {
   "cell_type": "code",
   "execution_count": 173,
   "metadata": {
    "run_control": {
     "marked": false
    }
   },
   "outputs": [
    {
     "data": {
      "text/plain": [
       "datetime.date(2018, 1, 23)"
      ]
     },
     "execution_count": 173,
     "metadata": {},
     "output_type": "execute_result"
    }
   ],
   "source": [
    "start_date - timedelta(days=1)"
   ]
  },
  {
   "cell_type": "code",
   "execution_count": 4,
   "metadata": {
    "run_control": {
     "marked": false
    },
    "scrolled": true
   },
   "outputs": [
    {
     "data": {
      "text/html": [
       "<div>\n",
       "<style>\n",
       "    .dataframe thead tr:only-child th {\n",
       "        text-align: right;\n",
       "    }\n",
       "\n",
       "    .dataframe thead th {\n",
       "        text-align: left;\n",
       "    }\n",
       "\n",
       "    .dataframe tbody tr th {\n",
       "        vertical-align: top;\n",
       "    }\n",
       "</style>\n",
       "<table border=\"1\" class=\"dataframe\">\n",
       "  <thead>\n",
       "    <tr style=\"text-align: right;\">\n",
       "      <th></th>\n",
       "      <th>Open</th>\n",
       "      <th>High</th>\n",
       "      <th>Low</th>\n",
       "      <th>Close</th>\n",
       "      <th>Adj Close</th>\n",
       "      <th>Volume</th>\n",
       "    </tr>\n",
       "    <tr>\n",
       "      <th>Date</th>\n",
       "      <th></th>\n",
       "      <th></th>\n",
       "      <th></th>\n",
       "      <th></th>\n",
       "      <th></th>\n",
       "      <th></th>\n",
       "    </tr>\n",
       "  </thead>\n",
       "  <tbody>\n",
       "    <tr>\n",
       "      <th>2018-05-09</th>\n",
       "      <td>186.550003</td>\n",
       "      <td>187.399994</td>\n",
       "      <td>185.220001</td>\n",
       "      <td>187.360001</td>\n",
       "      <td>186.640305</td>\n",
       "      <td>23211200</td>\n",
       "    </tr>\n",
       "  </tbody>\n",
       "</table>\n",
       "</div>"
      ],
      "text/plain": [
       "                  Open        High         Low       Close   Adj Close  \\\n",
       "Date                                                                     \n",
       "2018-05-09  186.550003  187.399994  185.220001  187.360001  186.640305   \n",
       "\n",
       "              Volume  \n",
       "Date                  \n",
       "2018-05-09  23211200  "
      ]
     },
     "execution_count": 4,
     "metadata": {},
     "output_type": "execute_result"
    }
   ],
   "source": [
    "data"
   ]
  },
  {
   "cell_type": "code",
   "execution_count": 56,
   "metadata": {
    "run_control": {
     "marked": false
    },
    "scrolled": false
   },
   "outputs": [
    {
     "ename": "AttributeError",
     "evalue": "'Panel' object has no attribute 'columns'",
     "output_type": "error",
     "traceback": [
      "\u001b[0;31m---------------------------------------------------------------------------\u001b[0m",
      "\u001b[0;31mAttributeError\u001b[0m                            Traceback (most recent call last)",
      "\u001b[0;32m<ipython-input-56-061e34d8674b>\u001b[0m in \u001b[0;36m<module>\u001b[0;34m()\u001b[0m\n\u001b[0;32m----> 1\u001b[0;31m \u001b[0mdata\u001b[0m\u001b[0;34m.\u001b[0m\u001b[0mcolumns\u001b[0m\u001b[0;34m\u001b[0m\u001b[0m\n\u001b[0m",
      "\u001b[0;32m/Users/sergey/anaconda/lib/python2.7/site-packages/pandas/core/generic.pyc\u001b[0m in \u001b[0;36m__getattr__\u001b[0;34m(self, name)\u001b[0m\n\u001b[1;32m   2964\u001b[0m         if (name in self._internal_names_set or name in self._metadata or\n\u001b[1;32m   2965\u001b[0m                 name in self._accessors):\n\u001b[0;32m-> 2966\u001b[0;31m             \u001b[0;32mreturn\u001b[0m \u001b[0mobject\u001b[0m\u001b[0;34m.\u001b[0m\u001b[0m__getattribute__\u001b[0m\u001b[0;34m(\u001b[0m\u001b[0mself\u001b[0m\u001b[0;34m,\u001b[0m \u001b[0mname\u001b[0m\u001b[0;34m)\u001b[0m\u001b[0;34m\u001b[0m\u001b[0m\n\u001b[0m\u001b[1;32m   2967\u001b[0m         \u001b[0;32melse\u001b[0m\u001b[0;34m:\u001b[0m\u001b[0;34m\u001b[0m\u001b[0m\n\u001b[1;32m   2968\u001b[0m             \u001b[0;32mif\u001b[0m \u001b[0mname\u001b[0m \u001b[0;32min\u001b[0m \u001b[0mself\u001b[0m\u001b[0;34m.\u001b[0m\u001b[0m_info_axis\u001b[0m\u001b[0;34m:\u001b[0m\u001b[0;34m\u001b[0m\u001b[0m\n",
      "\u001b[0;31mAttributeError\u001b[0m: 'Panel' object has no attribute 'columns'"
     ]
    }
   ],
   "source": [
    "data.columns"
   ]
  },
  {
   "cell_type": "code",
   "execution_count": null,
   "metadata": {
    "collapsed": true,
    "run_control": {
     "marked": false
    }
   },
   "outputs": [],
   "source": []
  }
 ],
 "metadata": {
  "kernelspec": {
   "display_name": "Python 2",
   "language": "python",
   "name": "python2"
  },
  "language_info": {
   "codemirror_mode": {
    "name": "ipython",
    "version": 2
   },
   "file_extension": ".py",
   "mimetype": "text/x-python",
   "name": "python",
   "nbconvert_exporter": "python",
   "pygments_lexer": "ipython2",
   "version": "2.7.13"
  }
 },
 "nbformat": 4,
 "nbformat_minor": 2
}
