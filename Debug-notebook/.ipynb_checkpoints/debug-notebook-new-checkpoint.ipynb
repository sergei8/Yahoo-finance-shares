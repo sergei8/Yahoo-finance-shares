{
 "cells": [
  {
   "cell_type": "markdown",
   "metadata": {},
   "source": [
    "### Functions"
   ]
  },
  {
   "cell_type": "code",
   "execution_count": 5,
   "metadata": {
    "code_folding": [
     1
    ],
    "collapsed": true,
    "run_control": {
     "marked": false
    }
   },
   "outputs": [],
   "source": [
    "# choose execl \n",
    "def choose_file():\n",
    "    \n",
    "    return 'FFG Holdings+Opt 05-11-18 NEW' + '.xlsx'\n",
    "    #return 'SCT 04-30-18' + '.xlsx'"
   ]
  },
  {
   "cell_type": "code",
   "execution_count": 56,
   "metadata": {
    "code_folding": [
     1
    ],
    "collapsed": true,
    "run_control": {
     "marked": false
    }
   },
   "outputs": [],
   "source": [
    "# input shares dates\n",
    "def get_date():\n",
    "    \n",
    "    # !IMPORTANT! add 1 day to period, because `get` returns previous day\n",
    "    return datetime.date(2018, 05, 10) + timedelta(days=1)  \n",
    "    #return datetime.datetime.now()\n"
   ]
  },
  {
   "cell_type": "code",
   "execution_count": 22,
   "metadata": {
    "code_folding": [
     1
    ],
    "collapsed": true,
    "run_control": {
     "marked": false
    }
   },
   "outputs": [],
   "source": [
    "# read xls into pandas table\n",
    "def create_table(file_name):\n",
    "    tables_list = pd.read_excel( file_name, sheetname=None)\n",
    "    \n",
    "    # get last worksheet from list\n",
    "    table = tables_list[list(tables_list.keys())[-1]]\n",
    "    \n",
    "    # clear nan rows\n",
    "    table = table[pd.isnull(table.SYMBOL) == False]\n",
    "    \n",
    "    # extract existing found-codes\n",
    "    symbl = table.SYMBOL.dropna().unique()\n",
    "    \n",
    "    return table, symbl  # return table and list of found market symbols"
   ]
  },
  {
   "cell_type": "code",
   "execution_count": 71,
   "metadata": {
    "code_folding": [
     1
    ],
    "collapsed": true,
    "run_control": {
     "marked": false
    }
   },
   "outputs": [],
   "source": [
    "# read and preprocess shares from yahoo on current date\n",
    "def read_shares(symbl, start, end):\n",
    "\n",
    "    # set date interval\n",
    "    start = end = get_date()\n",
    "\n",
    "    # download into dataPanel\n",
    "    shares_panel = web.get_data_yahoo(list(symbl), start, end)\n",
    " \n",
    "    # convert Panel to the Multyindexed frame\n",
    "    shares = shares_panel.to_frame()\n",
    "\n",
    "    # remove index level 0 (date)\n",
    "    shares.index = shares.index.droplevel(0)\n",
    "\n",
    "    # convert index into column\n",
    "    shares.reset_index(inplace=True)\n",
    "\n",
    "    # rename `minor` column\n",
    "    shares.rename(columns={'minor': 'SYMBOL'}, inplace=True)\n",
    "\n",
    "    return shares"
   ]
  },
  {
   "cell_type": "code",
   "execution_count": 30,
   "metadata": {
    "code_folding": [],
    "collapsed": true,
    "run_control": {
     "marked": false
    }
   },
   "outputs": [],
   "source": [
    "# create output xls from table and shares dataframes\n",
    "def create_output(table, shares):\n",
    "    \n",
    "    # remove unnesessary columns from shares\n",
    "    columns_to_drop = ['Close', 'High', 'Low', 'Open', 'Volume']\n",
    "    shares.drop(columns_to_drop, axis=1)\n",
    "    \n",
    "    # create table\n",
    "    table = pd.merge(left=table, right=shares, left_on='SYMBOL', right_on='SYMBOL')\n",
    "    \n",
    "    # delete 2-nd `symbol`\n",
    "    table.drop('SYMBOL', axis=1, inplace=True)\n",
    "    \n",
    "    # reformat date columns to m/d/y\n",
    "    # table['Current Date'] = table['Current Date'].map(lambda x: x.strftime(format='%m/%d/%Y'))\n",
    "    # table['EXP DATE'] = table['EXP DATE'].strftime('%m/%d/%Y')\n",
    "    # table['EXP DATE'] = table['EXP DATE'].dt.strftime('%m/%d/%Y')\n",
    "    \n",
    "    # reformat prices to 2 dec.digits\n",
    "    round_2 = lambda x: round(x, 2)\n",
    "    table.Open = table.Open.map(round_2)\n",
    "    table.Low = table.Low.map(round_2)\n",
    "    table.High = table.High.map(round_2)\n",
    "    table.Close = table.Close.map(round_2)\n",
    "    table['Adj Close'] = table['Adj Close'].map(round_2)\n",
    "    \n",
    "    # reorder columns\n",
    "    order = list(table.columns)[:-6]  # exept new columns\n",
    "    new_order = order[:len(order)] + ['Current Date', 'Open', 'High', 'Low', 'Close', 'Adj Close']\n",
    "    new_table = table[new_order]\n",
    "    \n",
    "    # reorder SEQ column through ass\n",
    "    new_table.SEQ = range(1, new_table.SEQ.shape[0] + 1)\n",
    "    \n",
    "    # write new xls table\n",
    "    new_table.to_excel('result_' + file_name, index=False)\n"
   ]
  },
  {
   "cell_type": "markdown",
   "metadata": {},
   "source": [
    "### Start here"
   ]
  },
  {
   "cell_type": "code",
   "execution_count": 8,
   "metadata": {
    "code_folding": [
     0
    ],
    "collapsed": true,
    "run_control": {
     "marked": false
    }
   },
   "outputs": [],
   "source": [
    "# main part\n",
    "import os\n",
    "import pandas as pd\n",
    "#import pandas_datareader.data as web\n",
    "from pandas_datareader import data as web\n",
    "\n",
    "import fix_yahoo_finance as yf\n",
    "yf.pdr_override() # <== that's all it takes :-)\n",
    "\n",
    "# download dataframe\n",
    "#data = web.get_data_yahoo('AAPL', start=\"2018-05-10\", end=\"2018-05-10\")\n",
    "from datetime import date\n",
    "from datetime import datetime\n",
    "import datetime\n",
    "from datetime import timedelta"
   ]
  },
  {
   "cell_type": "code",
   "execution_count": 72,
   "metadata": {
    "run_control": {
     "marked": false
    },
    "scrolled": true
   },
   "outputs": [
    {
     "name": "stdout",
     "output_type": "stream",
     "text": [
      "\n",
      "work tables created...\n",
      "[*********************100%***********************]  24 of 24 downloaded\n",
      "shares delivered...\n"
     ]
    }
   ],
   "source": [
    "file_name = choose_file()\n",
    "start = end = get_date()\n",
    "table, symbl = create_table(file_name)  # create pandas df\n",
    "print ('\\nwork tables created...')\n",
    "shares = read_shares(symbl, start, end)  # deliver shares from yahoo\n",
    "print ('shares delivered...')\n",
    "#create_output(table, shares)  # create, reformat and write output xls\n",
    "#print ('output file created')\n"
   ]
  },
  {
   "cell_type": "code",
   "execution_count": 74,
   "metadata": {
    "scrolled": true
   },
   "outputs": [
    {
     "data": {
      "text/html": [
       "<div>\n",
       "<style>\n",
       "    .dataframe thead tr:only-child th {\n",
       "        text-align: right;\n",
       "    }\n",
       "\n",
       "    .dataframe thead th {\n",
       "        text-align: left;\n",
       "    }\n",
       "\n",
       "    .dataframe tbody tr th {\n",
       "        vertical-align: top;\n",
       "    }\n",
       "</style>\n",
       "<table border=\"1\" class=\"dataframe\">\n",
       "  <thead>\n",
       "    <tr style=\"text-align: right;\">\n",
       "      <th></th>\n",
       "      <th>SYMBOL</th>\n",
       "      <th>Adj Close</th>\n",
       "      <th>Close</th>\n",
       "      <th>High</th>\n",
       "      <th>Low</th>\n",
       "      <th>Open</th>\n",
       "      <th>Volume</th>\n",
       "    </tr>\n",
       "  </thead>\n",
       "  <tbody>\n",
       "    <tr>\n",
       "      <th>0</th>\n",
       "      <td>AAPL</td>\n",
       "      <td>189.309998</td>\n",
       "      <td>190.039993</td>\n",
       "      <td>190.369995</td>\n",
       "      <td>187.649994</td>\n",
       "      <td>187.740005</td>\n",
       "      <td>27989300.0</td>\n",
       "    </tr>\n",
       "    <tr>\n",
       "      <th>1</th>\n",
       "      <td>AGN</td>\n",
       "      <td>151.910004</td>\n",
       "      <td>151.910004</td>\n",
       "      <td>153.759995</td>\n",
       "      <td>147.000000</td>\n",
       "      <td>147.149994</td>\n",
       "      <td>3944800.0</td>\n",
       "    </tr>\n",
       "    <tr>\n",
       "      <th>2</th>\n",
       "      <td>AMZN</td>\n",
       "      <td>1609.079956</td>\n",
       "      <td>1609.079956</td>\n",
       "      <td>1615.599976</td>\n",
       "      <td>1603.439941</td>\n",
       "      <td>1608.479980</td>\n",
       "      <td>2817500.0</td>\n",
       "    </tr>\n",
       "  </tbody>\n",
       "</table>\n",
       "</div>"
      ],
      "text/plain": [
       "  SYMBOL    Adj Close        Close         High          Low         Open  \\\n",
       "0   AAPL   189.309998   190.039993   190.369995   187.649994   187.740005   \n",
       "1    AGN   151.910004   151.910004   153.759995   147.000000   147.149994   \n",
       "2   AMZN  1609.079956  1609.079956  1615.599976  1603.439941  1608.479980   \n",
       "\n",
       "       Volume  \n",
       "0  27989300.0  \n",
       "1   3944800.0  \n",
       "2   2817500.0  "
      ]
     },
     "execution_count": 74,
     "metadata": {},
     "output_type": "execute_result"
    }
   ],
   "source": [
    "shares.head(3)"
   ]
  },
  {
   "cell_type": "code",
   "execution_count": null,
   "metadata": {
    "collapsed": true
   },
   "outputs": [],
   "source": []
  },
  {
   "cell_type": "code",
   "execution_count": null,
   "metadata": {
    "collapsed": true
   },
   "outputs": [],
   "source": []
  },
  {
   "cell_type": "markdown",
   "metadata": {
    "heading_collapsed": true
   },
   "source": [
    "### Sandbox space"
   ]
  },
  {
   "cell_type": "code",
   "execution_count": null,
   "metadata": {
    "collapsed": true,
    "hidden": true
   },
   "outputs": [],
   "source": [
    "shares_panel = web.get_data_yahoo(list(symbl), start, end)"
   ]
  },
  {
   "cell_type": "code",
   "execution_count": 13,
   "metadata": {
    "hidden": true,
    "run_control": {
     "marked": false
    }
   },
   "outputs": [
    {
     "ename": "NotImplementedError",
     "evalue": "data_source='morningstar' is not implemented",
     "output_type": "error",
     "traceback": [
      "\u001b[0;31m---------------------------------------------------------------------------\u001b[0m",
      "\u001b[0;31mNotImplementedError\u001b[0m                       Traceback (most recent call last)",
      "\u001b[0;32m<ipython-input-13-f6c3551cd356>\u001b[0m in \u001b[0;36m<module>\u001b[0;34m()\u001b[0m\n\u001b[0;32m----> 1\u001b[0;31m \u001b[0mf\u001b[0m \u001b[0;34m=\u001b[0m \u001b[0mweb\u001b[0m\u001b[0;34m.\u001b[0m\u001b[0mDataReader\u001b[0m\u001b[0;34m(\u001b[0m\u001b[0;34m'F'\u001b[0m\u001b[0;34m,\u001b[0m \u001b[0;34m'morningstar'\u001b[0m\u001b[0;34m,\u001b[0m \u001b[0mstart\u001b[0m\u001b[0;34m,\u001b[0m \u001b[0mend\u001b[0m\u001b[0;34m)\u001b[0m\u001b[0;34m\u001b[0m\u001b[0m\n\u001b[0m",
      "\u001b[0;32m/Users/sergey/anaconda/lib/python2.7/site-packages/pandas_datareader/data.pyc\u001b[0m in \u001b[0;36mDataReader\u001b[0;34m(name, data_source, start, end, retry_count, pause, session, access_key)\u001b[0m\n\u001b[1;32m    173\u001b[0m     \u001b[0;32melse\u001b[0m\u001b[0;34m:\u001b[0m\u001b[0;34m\u001b[0m\u001b[0m\n\u001b[1;32m    174\u001b[0m         \u001b[0mmsg\u001b[0m \u001b[0;34m=\u001b[0m \u001b[0;34m\"data_source=%r is not implemented\"\u001b[0m \u001b[0;34m%\u001b[0m \u001b[0mdata_source\u001b[0m\u001b[0;34m\u001b[0m\u001b[0m\n\u001b[0;32m--> 175\u001b[0;31m         \u001b[0;32mraise\u001b[0m \u001b[0mNotImplementedError\u001b[0m\u001b[0;34m(\u001b[0m\u001b[0mmsg\u001b[0m\u001b[0;34m)\u001b[0m\u001b[0;34m\u001b[0m\u001b[0m\n\u001b[0m\u001b[1;32m    176\u001b[0m \u001b[0;34m\u001b[0m\u001b[0m\n\u001b[1;32m    177\u001b[0m \u001b[0;34m\u001b[0m\u001b[0m\n",
      "\u001b[0;31mNotImplementedError\u001b[0m: data_source='morningstar' is not implemented"
     ]
    }
   ],
   "source": [
    "f = web.DataReader('F', 'morningstar', start, end)"
   ]
  },
  {
   "cell_type": "code",
   "execution_count": 66,
   "metadata": {
    "hidden": true,
    "run_control": {
     "marked": false
    }
   },
   "outputs": [
    {
     "data": {
      "text/html": [
       "<div>\n",
       "<style>\n",
       "    .dataframe thead tr:only-child th {\n",
       "        text-align: right;\n",
       "    }\n",
       "\n",
       "    .dataframe thead th {\n",
       "        text-align: left;\n",
       "    }\n",
       "\n",
       "    .dataframe tbody tr th {\n",
       "        vertical-align: top;\n",
       "    }\n",
       "</style>\n",
       "<table border=\"1\" class=\"dataframe\">\n",
       "  <thead>\n",
       "    <tr style=\"text-align: right;\">\n",
       "      <th></th>\n",
       "      <th></th>\n",
       "      <th>Close</th>\n",
       "      <th>High</th>\n",
       "      <th>Low</th>\n",
       "      <th>Open</th>\n",
       "      <th>Volume</th>\n",
       "    </tr>\n",
       "    <tr>\n",
       "      <th>Symbol</th>\n",
       "      <th>Date</th>\n",
       "      <th></th>\n",
       "      <th></th>\n",
       "      <th></th>\n",
       "      <th></th>\n",
       "      <th></th>\n",
       "    </tr>\n",
       "  </thead>\n",
       "  <tbody>\n",
       "    <tr>\n",
       "      <th rowspan=\"2\" valign=\"top\">F</th>\n",
       "      <th>2018-05-09</th>\n",
       "      <td>11.06</td>\n",
       "      <td>11.28</td>\n",
       "      <td>11.02</td>\n",
       "      <td>11.21</td>\n",
       "      <td>43731958</td>\n",
       "    </tr>\n",
       "    <tr>\n",
       "      <th>2018-05-10</th>\n",
       "      <td>11.21</td>\n",
       "      <td>11.25</td>\n",
       "      <td>11.02</td>\n",
       "      <td>11.04</td>\n",
       "      <td>31519940</td>\n",
       "    </tr>\n",
       "  </tbody>\n",
       "</table>\n",
       "</div>"
      ],
      "text/plain": [
       "                   Close   High    Low   Open    Volume\n",
       "Symbol Date                                            \n",
       "F      2018-05-09  11.06  11.28  11.02  11.21  43731958\n",
       "       2018-05-10  11.21  11.25  11.02  11.04  31519940"
      ]
     },
     "execution_count": 66,
     "metadata": {},
     "output_type": "execute_result"
    }
   ],
   "source": [
    "f"
   ]
  },
  {
   "cell_type": "code",
   "execution_count": 187,
   "metadata": {
    "hidden": true,
    "run_control": {
     "marked": false
    }
   },
   "outputs": [
    {
     "data": {
      "text/html": [
       "<div>\n",
       "<style>\n",
       "    .dataframe thead tr:only-child th {\n",
       "        text-align: right;\n",
       "    }\n",
       "\n",
       "    .dataframe thead th {\n",
       "        text-align: left;\n",
       "    }\n",
       "\n",
       "    .dataframe tbody tr th {\n",
       "        vertical-align: top;\n",
       "    }\n",
       "</style>\n",
       "<table border=\"1\" class=\"dataframe\">\n",
       "  <thead>\n",
       "    <tr style=\"text-align: right;\">\n",
       "      <th></th>\n",
       "      <th>symbl</th>\n",
       "      <th>Adj Close</th>\n",
       "      <th>Close</th>\n",
       "      <th>High</th>\n",
       "      <th>Low</th>\n",
       "      <th>Open</th>\n",
       "      <th>Current Date</th>\n",
       "    </tr>\n",
       "  </thead>\n",
       "  <tbody>\n",
       "    <tr>\n",
       "      <th>0</th>\n",
       "      <td>ABT</td>\n",
       "      <td>61.720001</td>\n",
       "      <td>61.720001</td>\n",
       "      <td>64.160004</td>\n",
       "      <td>60.740002</td>\n",
       "      <td>61.000000</td>\n",
       "      <td>2018-01-24</td>\n",
       "    </tr>\n",
       "    <tr>\n",
       "      <th>1</th>\n",
       "      <td>BX</td>\n",
       "      <td>36.080002</td>\n",
       "      <td>36.080002</td>\n",
       "      <td>36.330002</td>\n",
       "      <td>35.680000</td>\n",
       "      <td>36.250000</td>\n",
       "      <td>2018-01-24</td>\n",
       "    </tr>\n",
       "    <tr>\n",
       "      <th>2</th>\n",
       "      <td>CMCSA</td>\n",
       "      <td>42.990002</td>\n",
       "      <td>42.990002</td>\n",
       "      <td>44.000000</td>\n",
       "      <td>41.570000</td>\n",
       "      <td>42.700001</td>\n",
       "      <td>2018-01-24</td>\n",
       "    </tr>\n",
       "    <tr>\n",
       "      <th>3</th>\n",
       "      <td>CVX</td>\n",
       "      <td>131.389999</td>\n",
       "      <td>131.389999</td>\n",
       "      <td>132.669998</td>\n",
       "      <td>131.070007</td>\n",
       "      <td>131.380005</td>\n",
       "      <td>2018-01-24</td>\n",
       "    </tr>\n",
       "    <tr>\n",
       "      <th>4</th>\n",
       "      <td>MDT</td>\n",
       "      <td>85.760002</td>\n",
       "      <td>85.760002</td>\n",
       "      <td>86.129997</td>\n",
       "      <td>85.160004</td>\n",
       "      <td>85.830002</td>\n",
       "      <td>2018-01-24</td>\n",
       "    </tr>\n",
       "    <tr>\n",
       "      <th>5</th>\n",
       "      <td>MS</td>\n",
       "      <td>57.240002</td>\n",
       "      <td>57.240002</td>\n",
       "      <td>57.730000</td>\n",
       "      <td>56.900002</td>\n",
       "      <td>57.209999</td>\n",
       "      <td>2018-01-24</td>\n",
       "    </tr>\n",
       "    <tr>\n",
       "      <th>6</th>\n",
       "      <td>PM</td>\n",
       "      <td>110.599998</td>\n",
       "      <td>110.599998</td>\n",
       "      <td>110.889999</td>\n",
       "      <td>109.559998</td>\n",
       "      <td>109.559998</td>\n",
       "      <td>2018-01-24</td>\n",
       "    </tr>\n",
       "    <tr>\n",
       "      <th>7</th>\n",
       "      <td>SUN</td>\n",
       "      <td>32.540001</td>\n",
       "      <td>32.540001</td>\n",
       "      <td>33.040001</td>\n",
       "      <td>32.419998</td>\n",
       "      <td>32.529999</td>\n",
       "      <td>2018-01-24</td>\n",
       "    </tr>\n",
       "    <tr>\n",
       "      <th>8</th>\n",
       "      <td>UN</td>\n",
       "      <td>58.240002</td>\n",
       "      <td>58.240002</td>\n",
       "      <td>58.320000</td>\n",
       "      <td>57.990002</td>\n",
       "      <td>58.279999</td>\n",
       "      <td>2018-01-24</td>\n",
       "    </tr>\n",
       "  </tbody>\n",
       "</table>\n",
       "</div>"
      ],
      "text/plain": [
       "   symbl   Adj Close       Close        High         Low        Open  \\\n",
       "0    ABT   61.720001   61.720001   64.160004   60.740002   61.000000   \n",
       "1     BX   36.080002   36.080002   36.330002   35.680000   36.250000   \n",
       "2  CMCSA   42.990002   42.990002   44.000000   41.570000   42.700001   \n",
       "3    CVX  131.389999  131.389999  132.669998  131.070007  131.380005   \n",
       "4    MDT   85.760002   85.760002   86.129997   85.160004   85.830002   \n",
       "5     MS   57.240002   57.240002   57.730000   56.900002   57.209999   \n",
       "6     PM  110.599998  110.599998  110.889999  109.559998  109.559998   \n",
       "7    SUN   32.540001   32.540001   33.040001   32.419998   32.529999   \n",
       "8     UN   58.240002   58.240002   58.320000   57.990002   58.279999   \n",
       "\n",
       "  Current Date  \n",
       "0   2018-01-24  \n",
       "1   2018-01-24  \n",
       "2   2018-01-24  \n",
       "3   2018-01-24  \n",
       "4   2018-01-24  \n",
       "5   2018-01-24  \n",
       "6   2018-01-24  \n",
       "7   2018-01-24  \n",
       "8   2018-01-24  "
      ]
     },
     "execution_count": 187,
     "metadata": {},
     "output_type": "execute_result"
    }
   ],
   "source": [
    "shares"
   ]
  },
  {
   "cell_type": "code",
   "execution_count": 14,
   "metadata": {
    "hidden": true,
    "run_control": {
     "marked": false
    }
   },
   "outputs": [
    {
     "data": {
      "text/plain": [
       "array([u'CMCSA', u'SUN', u'CVX', u'MDT', u'ABT', u'BX', u'PM', u'UN', u'MS'], dtype=object)"
      ]
     },
     "execution_count": 14,
     "metadata": {},
     "output_type": "execute_result"
    }
   ],
   "source": [
    "symbl"
   ]
  },
  {
   "cell_type": "code",
   "execution_count": 163,
   "metadata": {
    "collapsed": true,
    "hidden": true,
    "run_control": {
     "marked": false
    }
   },
   "outputs": [],
   "source": [
    "panel = web.DataReader(symbl, 'yahoo', start_date, end_date)"
   ]
  },
  {
   "cell_type": "code",
   "execution_count": 114,
   "metadata": {
    "hidden": true,
    "run_control": {
     "marked": false
    }
   },
   "outputs": [
    {
     "data": {
      "text/plain": [
       "Timestamp('2018-01-24 00:00:00')"
      ]
     },
     "execution_count": 114,
     "metadata": {},
     "output_type": "execute_result"
    }
   ],
   "source": [
    "aaa.index.levels[0][0]"
   ]
  },
  {
   "cell_type": "code",
   "execution_count": 177,
   "metadata": {
    "hidden": true,
    "run_control": {
     "marked": false
    }
   },
   "outputs": [
    {
     "data": {
      "text/plain": [
       "FrozenList([u'Date', u'minor'])"
      ]
     },
     "execution_count": 177,
     "metadata": {},
     "output_type": "execute_result"
    }
   ],
   "source": [
    "aaa.index.names"
   ]
  },
  {
   "cell_type": "code",
   "execution_count": 188,
   "metadata": {
    "hidden": true,
    "run_control": {
     "marked": false
    }
   },
   "outputs": [
    {
     "data": {
      "text/html": [
       "<div>\n",
       "<style>\n",
       "    .dataframe thead tr:only-child th {\n",
       "        text-align: right;\n",
       "    }\n",
       "\n",
       "    .dataframe thead th {\n",
       "        text-align: left;\n",
       "    }\n",
       "\n",
       "    .dataframe tbody tr th {\n",
       "        vertical-align: top;\n",
       "    }\n",
       "</style>\n",
       "<table border=\"1\" class=\"dataframe\">\n",
       "  <thead>\n",
       "    <tr style=\"text-align: right;\">\n",
       "      <th></th>\n",
       "      <th></th>\n",
       "      <th>Adj Close</th>\n",
       "      <th>Close</th>\n",
       "      <th>High</th>\n",
       "      <th>Low</th>\n",
       "      <th>Open</th>\n",
       "      <th>Volume</th>\n",
       "    </tr>\n",
       "    <tr>\n",
       "      <th>Date</th>\n",
       "      <th>minor</th>\n",
       "      <th></th>\n",
       "      <th></th>\n",
       "      <th></th>\n",
       "      <th></th>\n",
       "      <th></th>\n",
       "      <th></th>\n",
       "    </tr>\n",
       "  </thead>\n",
       "  <tbody>\n",
       "    <tr>\n",
       "      <th rowspan=\"9\" valign=\"top\">2018-01-24</th>\n",
       "      <th>ABT</th>\n",
       "      <td>61.720001</td>\n",
       "      <td>61.720001</td>\n",
       "      <td>64.160004</td>\n",
       "      <td>60.740002</td>\n",
       "      <td>61.000000</td>\n",
       "      <td>11704900.0</td>\n",
       "    </tr>\n",
       "    <tr>\n",
       "      <th>BX</th>\n",
       "      <td>36.080002</td>\n",
       "      <td>36.080002</td>\n",
       "      <td>36.330002</td>\n",
       "      <td>35.680000</td>\n",
       "      <td>36.250000</td>\n",
       "      <td>5629000.0</td>\n",
       "    </tr>\n",
       "    <tr>\n",
       "      <th>CMCSA</th>\n",
       "      <td>42.990002</td>\n",
       "      <td>42.990002</td>\n",
       "      <td>44.000000</td>\n",
       "      <td>41.570000</td>\n",
       "      <td>42.700001</td>\n",
       "      <td>48918800.0</td>\n",
       "    </tr>\n",
       "    <tr>\n",
       "      <th>CVX</th>\n",
       "      <td>131.389999</td>\n",
       "      <td>131.389999</td>\n",
       "      <td>132.669998</td>\n",
       "      <td>131.070007</td>\n",
       "      <td>131.380005</td>\n",
       "      <td>6868200.0</td>\n",
       "    </tr>\n",
       "    <tr>\n",
       "      <th>MDT</th>\n",
       "      <td>85.760002</td>\n",
       "      <td>85.760002</td>\n",
       "      <td>86.129997</td>\n",
       "      <td>85.160004</td>\n",
       "      <td>85.830002</td>\n",
       "      <td>5680200.0</td>\n",
       "    </tr>\n",
       "    <tr>\n",
       "      <th>MS</th>\n",
       "      <td>57.240002</td>\n",
       "      <td>57.240002</td>\n",
       "      <td>57.730000</td>\n",
       "      <td>56.900002</td>\n",
       "      <td>57.209999</td>\n",
       "      <td>8403600.0</td>\n",
       "    </tr>\n",
       "    <tr>\n",
       "      <th>PM</th>\n",
       "      <td>110.599998</td>\n",
       "      <td>110.599998</td>\n",
       "      <td>110.889999</td>\n",
       "      <td>109.559998</td>\n",
       "      <td>109.559998</td>\n",
       "      <td>4404100.0</td>\n",
       "    </tr>\n",
       "    <tr>\n",
       "      <th>SUN</th>\n",
       "      <td>32.540001</td>\n",
       "      <td>32.540001</td>\n",
       "      <td>33.040001</td>\n",
       "      <td>32.419998</td>\n",
       "      <td>32.529999</td>\n",
       "      <td>490200.0</td>\n",
       "    </tr>\n",
       "    <tr>\n",
       "      <th>UN</th>\n",
       "      <td>58.240002</td>\n",
       "      <td>58.240002</td>\n",
       "      <td>58.320000</td>\n",
       "      <td>57.990002</td>\n",
       "      <td>58.279999</td>\n",
       "      <td>1281200.0</td>\n",
       "    </tr>\n",
       "  </tbody>\n",
       "</table>\n",
       "</div>"
      ],
      "text/plain": [
       "                   Adj Close       Close        High         Low        Open  \\\n",
       "Date       minor                                                               \n",
       "2018-01-24 ABT     61.720001   61.720001   64.160004   60.740002   61.000000   \n",
       "           BX      36.080002   36.080002   36.330002   35.680000   36.250000   \n",
       "           CMCSA   42.990002   42.990002   44.000000   41.570000   42.700001   \n",
       "           CVX    131.389999  131.389999  132.669998  131.070007  131.380005   \n",
       "           MDT     85.760002   85.760002   86.129997   85.160004   85.830002   \n",
       "           MS      57.240002   57.240002   57.730000   56.900002   57.209999   \n",
       "           PM     110.599998  110.599998  110.889999  109.559998  109.559998   \n",
       "           SUN     32.540001   32.540001   33.040001   32.419998   32.529999   \n",
       "           UN      58.240002   58.240002   58.320000   57.990002   58.279999   \n",
       "\n",
       "                      Volume  \n",
       "Date       minor              \n",
       "2018-01-24 ABT    11704900.0  \n",
       "           BX      5629000.0  \n",
       "           CMCSA  48918800.0  \n",
       "           CVX     6868200.0  \n",
       "           MDT     5680200.0  \n",
       "           MS      8403600.0  \n",
       "           PM      4404100.0  \n",
       "           SUN      490200.0  \n",
       "           UN      1281200.0  "
      ]
     },
     "execution_count": 188,
     "metadata": {},
     "output_type": "execute_result"
    }
   ],
   "source": [
    "aaa.drop(start_date - timedelta(days=1) , level=0, axis=0)"
   ]
  },
  {
   "cell_type": "code",
   "execution_count": 149,
   "metadata": {
    "collapsed": true,
    "hidden": true,
    "run_control": {
     "marked": false
    }
   },
   "outputs": [],
   "source": [
    "from datetime import timedelta"
   ]
  },
  {
   "cell_type": "code",
   "execution_count": 151,
   "metadata": {
    "hidden": true,
    "run_control": {
     "marked": false
    }
   },
   "outputs": [
    {
     "data": {
      "text/plain": [
       "datetime.date(2018, 1, 23)"
      ]
     },
     "execution_count": 151,
     "metadata": {},
     "output_type": "execute_result"
    }
   ],
   "source": [
    "start_date - timedelta(days=1)"
   ]
  },
  {
   "cell_type": "code",
   "execution_count": 173,
   "metadata": {
    "hidden": true,
    "run_control": {
     "marked": false
    }
   },
   "outputs": [
    {
     "data": {
      "text/plain": [
       "datetime.date(2018, 1, 23)"
      ]
     },
     "execution_count": 173,
     "metadata": {},
     "output_type": "execute_result"
    }
   ],
   "source": [
    "start_date - timedelta(days=1)"
   ]
  },
  {
   "cell_type": "code",
   "execution_count": 4,
   "metadata": {
    "hidden": true,
    "run_control": {
     "marked": false
    },
    "scrolled": true
   },
   "outputs": [
    {
     "data": {
      "text/html": [
       "<div>\n",
       "<style>\n",
       "    .dataframe thead tr:only-child th {\n",
       "        text-align: right;\n",
       "    }\n",
       "\n",
       "    .dataframe thead th {\n",
       "        text-align: left;\n",
       "    }\n",
       "\n",
       "    .dataframe tbody tr th {\n",
       "        vertical-align: top;\n",
       "    }\n",
       "</style>\n",
       "<table border=\"1\" class=\"dataframe\">\n",
       "  <thead>\n",
       "    <tr style=\"text-align: right;\">\n",
       "      <th></th>\n",
       "      <th>Open</th>\n",
       "      <th>High</th>\n",
       "      <th>Low</th>\n",
       "      <th>Close</th>\n",
       "      <th>Adj Close</th>\n",
       "      <th>Volume</th>\n",
       "    </tr>\n",
       "    <tr>\n",
       "      <th>Date</th>\n",
       "      <th></th>\n",
       "      <th></th>\n",
       "      <th></th>\n",
       "      <th></th>\n",
       "      <th></th>\n",
       "      <th></th>\n",
       "    </tr>\n",
       "  </thead>\n",
       "  <tbody>\n",
       "    <tr>\n",
       "      <th>2018-05-09</th>\n",
       "      <td>186.550003</td>\n",
       "      <td>187.399994</td>\n",
       "      <td>185.220001</td>\n",
       "      <td>187.360001</td>\n",
       "      <td>186.640305</td>\n",
       "      <td>23211200</td>\n",
       "    </tr>\n",
       "  </tbody>\n",
       "</table>\n",
       "</div>"
      ],
      "text/plain": [
       "                  Open        High         Low       Close   Adj Close  \\\n",
       "Date                                                                     \n",
       "2018-05-09  186.550003  187.399994  185.220001  187.360001  186.640305   \n",
       "\n",
       "              Volume  \n",
       "Date                  \n",
       "2018-05-09  23211200  "
      ]
     },
     "execution_count": 4,
     "metadata": {},
     "output_type": "execute_result"
    }
   ],
   "source": [
    "data"
   ]
  },
  {
   "cell_type": "code",
   "execution_count": 56,
   "metadata": {
    "hidden": true,
    "run_control": {
     "marked": false
    },
    "scrolled": false
   },
   "outputs": [
    {
     "ename": "AttributeError",
     "evalue": "'Panel' object has no attribute 'columns'",
     "output_type": "error",
     "traceback": [
      "\u001b[0;31m---------------------------------------------------------------------------\u001b[0m",
      "\u001b[0;31mAttributeError\u001b[0m                            Traceback (most recent call last)",
      "\u001b[0;32m<ipython-input-56-061e34d8674b>\u001b[0m in \u001b[0;36m<module>\u001b[0;34m()\u001b[0m\n\u001b[0;32m----> 1\u001b[0;31m \u001b[0mdata\u001b[0m\u001b[0;34m.\u001b[0m\u001b[0mcolumns\u001b[0m\u001b[0;34m\u001b[0m\u001b[0m\n\u001b[0m",
      "\u001b[0;32m/Users/sergey/anaconda/lib/python2.7/site-packages/pandas/core/generic.pyc\u001b[0m in \u001b[0;36m__getattr__\u001b[0;34m(self, name)\u001b[0m\n\u001b[1;32m   2964\u001b[0m         if (name in self._internal_names_set or name in self._metadata or\n\u001b[1;32m   2965\u001b[0m                 name in self._accessors):\n\u001b[0;32m-> 2966\u001b[0;31m             \u001b[0;32mreturn\u001b[0m \u001b[0mobject\u001b[0m\u001b[0;34m.\u001b[0m\u001b[0m__getattribute__\u001b[0m\u001b[0;34m(\u001b[0m\u001b[0mself\u001b[0m\u001b[0;34m,\u001b[0m \u001b[0mname\u001b[0m\u001b[0;34m)\u001b[0m\u001b[0;34m\u001b[0m\u001b[0m\n\u001b[0m\u001b[1;32m   2967\u001b[0m         \u001b[0;32melse\u001b[0m\u001b[0;34m:\u001b[0m\u001b[0;34m\u001b[0m\u001b[0m\n\u001b[1;32m   2968\u001b[0m             \u001b[0;32mif\u001b[0m \u001b[0mname\u001b[0m \u001b[0;32min\u001b[0m \u001b[0mself\u001b[0m\u001b[0;34m.\u001b[0m\u001b[0m_info_axis\u001b[0m\u001b[0;34m:\u001b[0m\u001b[0;34m\u001b[0m\u001b[0m\n",
      "\u001b[0;31mAttributeError\u001b[0m: 'Panel' object has no attribute 'columns'"
     ]
    }
   ],
   "source": [
    "data.columns"
   ]
  },
  {
   "cell_type": "code",
   "execution_count": null,
   "metadata": {
    "collapsed": true,
    "hidden": true,
    "run_control": {
     "marked": false
    }
   },
   "outputs": [],
   "source": []
  }
 ],
 "metadata": {
  "kernelspec": {
   "display_name": "Python 2",
   "language": "python",
   "name": "python2"
  },
  "language_info": {
   "codemirror_mode": {
    "name": "ipython",
    "version": 2
   },
   "file_extension": ".py",
   "mimetype": "text/x-python",
   "name": "python",
   "nbconvert_exporter": "python",
   "pygments_lexer": "ipython2",
   "version": "2.7.13"
  }
 },
 "nbformat": 4,
 "nbformat_minor": 2
}
