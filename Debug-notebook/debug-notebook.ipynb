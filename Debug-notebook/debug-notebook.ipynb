{
 "cells": [
  {
   "cell_type": "markdown",
   "metadata": {},
   "source": [
    "### for debug production app"
   ]
  },
  {
   "cell_type": "code",
   "execution_count": 154,
   "metadata": {
    "collapsed": true
   },
   "outputs": [],
   "source": [
    "# choose execl \n",
    "def choose_file():\n",
    "    \n",
    "    return 'FFG-November-Options-Activity' + '.xlsx'\n"
   ]
  },
  {
   "cell_type": "code",
   "execution_count": 155,
   "metadata": {
    "collapsed": true
   },
   "outputs": [],
   "source": [
    "# input shares dates\n",
    "def get_date():\n",
    "    return datetime.date(2018, 01, 24)  # return datetime.datetime.now()\n"
   ]
  },
  {
   "cell_type": "code",
   "execution_count": 156,
   "metadata": {
    "collapsed": true
   },
   "outputs": [],
   "source": [
    "# read xls into pandas table\n",
    "def create_table(file_name):\n",
    "    tables_list = pd.read_excel( file_name, sheetname=None)\n",
    "    \n",
    "    # get last worksheet from list\n",
    "    table = tables_list[tables_list.keys()[-1]]\n",
    "    \n",
    "    # clear nan rows\n",
    "    table = table[pd.isnull(table.SYMBL) == False]\n",
    "    \n",
    "    # extract existing found-codes\n",
    "    symbl = table.SYMBL.dropna().unique()\n",
    "    \n",
    "    return table, symbl  # return table and list of found market symbols\n"
   ]
  },
  {
   "cell_type": "code",
   "execution_count": 189,
   "metadata": {
    "collapsed": true
   },
   "outputs": [],
   "source": [
    "# read and preprocess shares from yahoo on current date\n",
    "def read_shares(symbl, start, end):\n",
    "    # start = end = datetime.datetime.now()\n",
    "    # start = end = get_date()\n",
    "    shares_panel = web.DataReader(symbl, 'yahoo', start, end)\n",
    "    \n",
    "    # convert Panel to the Multyindexed frame\n",
    "    shares = shares_panel.to_frame()\n",
    "    \n",
    "    # remove yesterday (start_date -1) from multyindex df\n",
    "    yesterday = start - timedelta(days=1)\n",
    "    #print (yesterday)\n",
    "    #print shares\n",
    "    shares.drop(yesterday, level=0, axis=0, inplace=True)\n",
    "    #print shares\n",
    "\n",
    "  \n",
    "    # remove index level 0 (data)\n",
    "    shares.index = shares.index.droplevel(0)\n",
    "    \n",
    "    # convert index into column\n",
    "    shares.reset_index(inplace=True)\n",
    "    \n",
    "    shares.rename(columns={'minor': 'symbl'}, inplace=True)\n",
    "    \n",
    "    # insert column\n",
    "    shares['Current Date'] = start\n",
    "    \n",
    "    # remove column\n",
    "    shares.drop(['Volume'], axis=1, inplace=True)\n",
    "    \n",
    "    return shares\n"
   ]
  },
  {
   "cell_type": "code",
   "execution_count": 158,
   "metadata": {
    "collapsed": true
   },
   "outputs": [],
   "source": [
    "# create output xls from table and shares dataframes\n",
    "def create_output(table, shares):\n",
    "    # create table\n",
    "    table = pd.merge(left=table, right=shares, left_on='SYMBL', right_on='symbl')\n",
    "    \n",
    "    # delete 2-nd `symbol`\n",
    "    table.drop('symbl', axis=1, inplace=True)\n",
    "    \n",
    "    # reformat date columns to m/d/y\n",
    "    # table['Current Date'] = table['Current Date'].map(lambda x: x.strftime(format='%m/%d/%Y'))\n",
    "    # table['EXP DATE'] = table['EXP DATE'].strftime('%m/%d/%Y')\n",
    "    # table['EXP DATE'] = table['EXP DATE'].dt.strftime('%m/%d/%Y')\n",
    "    \n",
    "    # reformat prices to 2 dec.digits\n",
    "    round_2 = lambda x: round(x, 2)\n",
    "    table.Open = table.Open.map(round_2)\n",
    "    table.Low = table.Low.map(round_2)\n",
    "    table.High = table.High.map(round_2)\n",
    "    table.Close = table.Close.map(round_2)\n",
    "    table['Adj Close'] = table['Adj Close'].map(round_2)\n",
    "    \n",
    "    # reorder columns\n",
    "    order = list(table.columns)[:-6]  # exept new columns\n",
    "    new_order = order[:len(order)] + ['Current Date', 'Open', 'High', 'Low', 'Close', 'Adj Close']\n",
    "    new_table = table[new_order]\n",
    "    \n",
    "    # reorder SEQ column through ass\n",
    "    new_table.SEQ = range(1, new_table.SEQ.shape[0] + 1)\n",
    "    \n",
    "    # write new xls table\n",
    "    new_table.to_excel('result_' + file_name, index=False)\n"
   ]
  },
  {
   "cell_type": "markdown",
   "metadata": {},
   "source": [
    "### Start here"
   ]
  },
  {
   "cell_type": "code",
   "execution_count": 185,
   "metadata": {
    "collapsed": true
   },
   "outputs": [],
   "source": [
    "# main part\n",
    "import os\n",
    "import pandas as pd\n",
    "import pandas_datareader.data as web\n",
    "from datetime import date\n",
    "from datetime import datetime\n",
    "import datetime\n",
    "from datetime import timedelta"
   ]
  },
  {
   "cell_type": "code",
   "execution_count": 190,
   "metadata": {},
   "outputs": [
    {
     "name": "stdout",
     "output_type": "stream",
     "text": [
      "\n",
      "work tables created...\n",
      "shares delivered...\n",
      "output file created\n"
     ]
    }
   ],
   "source": [
    "file_name = choose_file()\n",
    "start_date = end_date = get_date()\n",
    "table, symbl = create_table(file_name)  # create pandas df\n",
    "print '\\nwork tables created...'\n",
    "shares = read_shares(symbl, start_date, end_date)  # deliver shares from yahoo\n",
    "print 'shares delivered...'\n",
    "create_output(table, shares)  # create, reformat and write output xls\n",
    "print 'output file created'\n"
   ]
  },
  {
   "cell_type": "code",
   "execution_count": 187,
   "metadata": {},
   "outputs": [
    {
     "data": {
      "text/html": [
       "<div>\n",
       "<style>\n",
       "    .dataframe thead tr:only-child th {\n",
       "        text-align: right;\n",
       "    }\n",
       "\n",
       "    .dataframe thead th {\n",
       "        text-align: left;\n",
       "    }\n",
       "\n",
       "    .dataframe tbody tr th {\n",
       "        vertical-align: top;\n",
       "    }\n",
       "</style>\n",
       "<table border=\"1\" class=\"dataframe\">\n",
       "  <thead>\n",
       "    <tr style=\"text-align: right;\">\n",
       "      <th></th>\n",
       "      <th>symbl</th>\n",
       "      <th>Adj Close</th>\n",
       "      <th>Close</th>\n",
       "      <th>High</th>\n",
       "      <th>Low</th>\n",
       "      <th>Open</th>\n",
       "      <th>Current Date</th>\n",
       "    </tr>\n",
       "  </thead>\n",
       "  <tbody>\n",
       "    <tr>\n",
       "      <th>0</th>\n",
       "      <td>ABT</td>\n",
       "      <td>61.720001</td>\n",
       "      <td>61.720001</td>\n",
       "      <td>64.160004</td>\n",
       "      <td>60.740002</td>\n",
       "      <td>61.000000</td>\n",
       "      <td>2018-01-24</td>\n",
       "    </tr>\n",
       "    <tr>\n",
       "      <th>1</th>\n",
       "      <td>BX</td>\n",
       "      <td>36.080002</td>\n",
       "      <td>36.080002</td>\n",
       "      <td>36.330002</td>\n",
       "      <td>35.680000</td>\n",
       "      <td>36.250000</td>\n",
       "      <td>2018-01-24</td>\n",
       "    </tr>\n",
       "    <tr>\n",
       "      <th>2</th>\n",
       "      <td>CMCSA</td>\n",
       "      <td>42.990002</td>\n",
       "      <td>42.990002</td>\n",
       "      <td>44.000000</td>\n",
       "      <td>41.570000</td>\n",
       "      <td>42.700001</td>\n",
       "      <td>2018-01-24</td>\n",
       "    </tr>\n",
       "    <tr>\n",
       "      <th>3</th>\n",
       "      <td>CVX</td>\n",
       "      <td>131.389999</td>\n",
       "      <td>131.389999</td>\n",
       "      <td>132.669998</td>\n",
       "      <td>131.070007</td>\n",
       "      <td>131.380005</td>\n",
       "      <td>2018-01-24</td>\n",
       "    </tr>\n",
       "    <tr>\n",
       "      <th>4</th>\n",
       "      <td>MDT</td>\n",
       "      <td>85.760002</td>\n",
       "      <td>85.760002</td>\n",
       "      <td>86.129997</td>\n",
       "      <td>85.160004</td>\n",
       "      <td>85.830002</td>\n",
       "      <td>2018-01-24</td>\n",
       "    </tr>\n",
       "    <tr>\n",
       "      <th>5</th>\n",
       "      <td>MS</td>\n",
       "      <td>57.240002</td>\n",
       "      <td>57.240002</td>\n",
       "      <td>57.730000</td>\n",
       "      <td>56.900002</td>\n",
       "      <td>57.209999</td>\n",
       "      <td>2018-01-24</td>\n",
       "    </tr>\n",
       "    <tr>\n",
       "      <th>6</th>\n",
       "      <td>PM</td>\n",
       "      <td>110.599998</td>\n",
       "      <td>110.599998</td>\n",
       "      <td>110.889999</td>\n",
       "      <td>109.559998</td>\n",
       "      <td>109.559998</td>\n",
       "      <td>2018-01-24</td>\n",
       "    </tr>\n",
       "    <tr>\n",
       "      <th>7</th>\n",
       "      <td>SUN</td>\n",
       "      <td>32.540001</td>\n",
       "      <td>32.540001</td>\n",
       "      <td>33.040001</td>\n",
       "      <td>32.419998</td>\n",
       "      <td>32.529999</td>\n",
       "      <td>2018-01-24</td>\n",
       "    </tr>\n",
       "    <tr>\n",
       "      <th>8</th>\n",
       "      <td>UN</td>\n",
       "      <td>58.240002</td>\n",
       "      <td>58.240002</td>\n",
       "      <td>58.320000</td>\n",
       "      <td>57.990002</td>\n",
       "      <td>58.279999</td>\n",
       "      <td>2018-01-24</td>\n",
       "    </tr>\n",
       "  </tbody>\n",
       "</table>\n",
       "</div>"
      ],
      "text/plain": [
       "   symbl   Adj Close       Close        High         Low        Open  \\\n",
       "0    ABT   61.720001   61.720001   64.160004   60.740002   61.000000   \n",
       "1     BX   36.080002   36.080002   36.330002   35.680000   36.250000   \n",
       "2  CMCSA   42.990002   42.990002   44.000000   41.570000   42.700001   \n",
       "3    CVX  131.389999  131.389999  132.669998  131.070007  131.380005   \n",
       "4    MDT   85.760002   85.760002   86.129997   85.160004   85.830002   \n",
       "5     MS   57.240002   57.240002   57.730000   56.900002   57.209999   \n",
       "6     PM  110.599998  110.599998  110.889999  109.559998  109.559998   \n",
       "7    SUN   32.540001   32.540001   33.040001   32.419998   32.529999   \n",
       "8     UN   58.240002   58.240002   58.320000   57.990002   58.279999   \n",
       "\n",
       "  Current Date  \n",
       "0   2018-01-24  \n",
       "1   2018-01-24  \n",
       "2   2018-01-24  \n",
       "3   2018-01-24  \n",
       "4   2018-01-24  \n",
       "5   2018-01-24  \n",
       "6   2018-01-24  \n",
       "7   2018-01-24  \n",
       "8   2018-01-24  "
      ]
     },
     "execution_count": 187,
     "metadata": {},
     "output_type": "execute_result"
    }
   ],
   "source": [
    "shares"
   ]
  },
  {
   "cell_type": "code",
   "execution_count": 162,
   "metadata": {},
   "outputs": [
    {
     "data": {
      "text/plain": [
       "array([u'CMCSA', u'SUN', u'CVX', u'MDT', u'ABT', u'BX', u'PM', u'UN', u'MS'], dtype=object)"
      ]
     },
     "execution_count": 162,
     "metadata": {},
     "output_type": "execute_result"
    }
   ],
   "source": [
    "symbl"
   ]
  },
  {
   "cell_type": "code",
   "execution_count": 163,
   "metadata": {},
   "outputs": [],
   "source": [
    "panel = web.DataReader(symbl, 'yahoo', start_date, end_date)"
   ]
  },
  {
   "cell_type": "code",
   "execution_count": 164,
   "metadata": {},
   "outputs": [],
   "source": [
    "aaa = panel.to_frame()"
   ]
  },
  {
   "cell_type": "code",
   "execution_count": 165,
   "metadata": {
    "scrolled": true
   },
   "outputs": [
    {
     "name": "stdout",
     "output_type": "stream",
     "text": [
      "2018-01-24 2018-01-24\n"
     ]
    }
   ],
   "source": [
    "print start_date, end_date"
   ]
  },
  {
   "cell_type": "code",
   "execution_count": 166,
   "metadata": {},
   "outputs": [
    {
     "data": {
      "text/plain": [
       "Index([u'Adj Close', u'Close', u'High', u'Low', u'Open', u'Volume'], dtype='object')"
      ]
     },
     "execution_count": 166,
     "metadata": {},
     "output_type": "execute_result"
    }
   ],
   "source": [
    "aaa.columns"
   ]
  },
  {
   "cell_type": "code",
   "execution_count": 167,
   "metadata": {},
   "outputs": [
    {
     "data": {
      "text/html": [
       "<div>\n",
       "<style>\n",
       "    .dataframe thead tr:only-child th {\n",
       "        text-align: right;\n",
       "    }\n",
       "\n",
       "    .dataframe thead th {\n",
       "        text-align: left;\n",
       "    }\n",
       "\n",
       "    .dataframe tbody tr th {\n",
       "        vertical-align: top;\n",
       "    }\n",
       "</style>\n",
       "<table border=\"1\" class=\"dataframe\">\n",
       "  <thead>\n",
       "    <tr style=\"text-align: right;\">\n",
       "      <th></th>\n",
       "      <th></th>\n",
       "      <th>Adj Close</th>\n",
       "      <th>Close</th>\n",
       "      <th>High</th>\n",
       "      <th>Low</th>\n",
       "      <th>Open</th>\n",
       "      <th>Volume</th>\n",
       "    </tr>\n",
       "    <tr>\n",
       "      <th>Date</th>\n",
       "      <th>minor</th>\n",
       "      <th></th>\n",
       "      <th></th>\n",
       "      <th></th>\n",
       "      <th></th>\n",
       "      <th></th>\n",
       "      <th></th>\n",
       "    </tr>\n",
       "  </thead>\n",
       "  <tbody>\n",
       "    <tr>\n",
       "      <th rowspan=\"9\" valign=\"top\">2018-01-24</th>\n",
       "      <th>ABT</th>\n",
       "      <td>61.720001</td>\n",
       "      <td>61.720001</td>\n",
       "      <td>64.160004</td>\n",
       "      <td>60.740002</td>\n",
       "      <td>61.000000</td>\n",
       "      <td>11704900.0</td>\n",
       "    </tr>\n",
       "    <tr>\n",
       "      <th>BX</th>\n",
       "      <td>36.080002</td>\n",
       "      <td>36.080002</td>\n",
       "      <td>36.330002</td>\n",
       "      <td>35.680000</td>\n",
       "      <td>36.250000</td>\n",
       "      <td>5629000.0</td>\n",
       "    </tr>\n",
       "    <tr>\n",
       "      <th>CMCSA</th>\n",
       "      <td>42.990002</td>\n",
       "      <td>42.990002</td>\n",
       "      <td>44.000000</td>\n",
       "      <td>41.570000</td>\n",
       "      <td>42.700001</td>\n",
       "      <td>48918800.0</td>\n",
       "    </tr>\n",
       "    <tr>\n",
       "      <th>CVX</th>\n",
       "      <td>131.389999</td>\n",
       "      <td>131.389999</td>\n",
       "      <td>132.669998</td>\n",
       "      <td>131.070007</td>\n",
       "      <td>131.380005</td>\n",
       "      <td>6868200.0</td>\n",
       "    </tr>\n",
       "    <tr>\n",
       "      <th>MDT</th>\n",
       "      <td>85.760002</td>\n",
       "      <td>85.760002</td>\n",
       "      <td>86.129997</td>\n",
       "      <td>85.160004</td>\n",
       "      <td>85.830002</td>\n",
       "      <td>5680200.0</td>\n",
       "    </tr>\n",
       "    <tr>\n",
       "      <th>MS</th>\n",
       "      <td>57.240002</td>\n",
       "      <td>57.240002</td>\n",
       "      <td>57.730000</td>\n",
       "      <td>56.900002</td>\n",
       "      <td>57.209999</td>\n",
       "      <td>8403600.0</td>\n",
       "    </tr>\n",
       "    <tr>\n",
       "      <th>PM</th>\n",
       "      <td>110.599998</td>\n",
       "      <td>110.599998</td>\n",
       "      <td>110.889999</td>\n",
       "      <td>109.559998</td>\n",
       "      <td>109.559998</td>\n",
       "      <td>4404100.0</td>\n",
       "    </tr>\n",
       "    <tr>\n",
       "      <th>SUN</th>\n",
       "      <td>32.540001</td>\n",
       "      <td>32.540001</td>\n",
       "      <td>33.040001</td>\n",
       "      <td>32.419998</td>\n",
       "      <td>32.529999</td>\n",
       "      <td>490200.0</td>\n",
       "    </tr>\n",
       "    <tr>\n",
       "      <th>UN</th>\n",
       "      <td>58.240002</td>\n",
       "      <td>58.240002</td>\n",
       "      <td>58.320000</td>\n",
       "      <td>57.990002</td>\n",
       "      <td>58.279999</td>\n",
       "      <td>1281200.0</td>\n",
       "    </tr>\n",
       "    <tr>\n",
       "      <th rowspan=\"9\" valign=\"top\">2018-01-23</th>\n",
       "      <th>ABT</th>\n",
       "      <td>59.230000</td>\n",
       "      <td>59.230000</td>\n",
       "      <td>59.570000</td>\n",
       "      <td>58.980000</td>\n",
       "      <td>59.520000</td>\n",
       "      <td>8122100.0</td>\n",
       "    </tr>\n",
       "    <tr>\n",
       "      <th>BX</th>\n",
       "      <td>35.830002</td>\n",
       "      <td>35.830002</td>\n",
       "      <td>36.020000</td>\n",
       "      <td>34.950001</td>\n",
       "      <td>35.000000</td>\n",
       "      <td>4987700.0</td>\n",
       "    </tr>\n",
       "    <tr>\n",
       "      <th>CMCSA</th>\n",
       "      <td>42.439999</td>\n",
       "      <td>42.439999</td>\n",
       "      <td>42.840000</td>\n",
       "      <td>41.959999</td>\n",
       "      <td>42.500000</td>\n",
       "      <td>19155500.0</td>\n",
       "    </tr>\n",
       "    <tr>\n",
       "      <th>CVX</th>\n",
       "      <td>131.020004</td>\n",
       "      <td>131.020004</td>\n",
       "      <td>132.559998</td>\n",
       "      <td>130.729996</td>\n",
       "      <td>132.380005</td>\n",
       "      <td>5747300.0</td>\n",
       "    </tr>\n",
       "    <tr>\n",
       "      <th>MDT</th>\n",
       "      <td>85.230003</td>\n",
       "      <td>85.230003</td>\n",
       "      <td>86.220001</td>\n",
       "      <td>84.980003</td>\n",
       "      <td>86.220001</td>\n",
       "      <td>4962300.0</td>\n",
       "    </tr>\n",
       "    <tr>\n",
       "      <th>MS</th>\n",
       "      <td>56.910000</td>\n",
       "      <td>56.910000</td>\n",
       "      <td>57.310001</td>\n",
       "      <td>56.650002</td>\n",
       "      <td>57.139999</td>\n",
       "      <td>9372200.0</td>\n",
       "    </tr>\n",
       "    <tr>\n",
       "      <th>PM</th>\n",
       "      <td>109.529999</td>\n",
       "      <td>109.529999</td>\n",
       "      <td>109.779999</td>\n",
       "      <td>108.400002</td>\n",
       "      <td>108.500000</td>\n",
       "      <td>3778100.0</td>\n",
       "    </tr>\n",
       "    <tr>\n",
       "      <th>SUN</th>\n",
       "      <td>32.410000</td>\n",
       "      <td>32.410000</td>\n",
       "      <td>32.880001</td>\n",
       "      <td>32.279999</td>\n",
       "      <td>32.599998</td>\n",
       "      <td>413700.0</td>\n",
       "    </tr>\n",
       "    <tr>\n",
       "      <th>UN</th>\n",
       "      <td>57.910000</td>\n",
       "      <td>57.910000</td>\n",
       "      <td>58.169998</td>\n",
       "      <td>57.730000</td>\n",
       "      <td>57.910000</td>\n",
       "      <td>1075000.0</td>\n",
       "    </tr>\n",
       "  </tbody>\n",
       "</table>\n",
       "</div>"
      ],
      "text/plain": [
       "                   Adj Close       Close        High         Low        Open  \\\n",
       "Date       minor                                                               \n",
       "2018-01-24 ABT     61.720001   61.720001   64.160004   60.740002   61.000000   \n",
       "           BX      36.080002   36.080002   36.330002   35.680000   36.250000   \n",
       "           CMCSA   42.990002   42.990002   44.000000   41.570000   42.700001   \n",
       "           CVX    131.389999  131.389999  132.669998  131.070007  131.380005   \n",
       "           MDT     85.760002   85.760002   86.129997   85.160004   85.830002   \n",
       "           MS      57.240002   57.240002   57.730000   56.900002   57.209999   \n",
       "           PM     110.599998  110.599998  110.889999  109.559998  109.559998   \n",
       "           SUN     32.540001   32.540001   33.040001   32.419998   32.529999   \n",
       "           UN      58.240002   58.240002   58.320000   57.990002   58.279999   \n",
       "2018-01-23 ABT     59.230000   59.230000   59.570000   58.980000   59.520000   \n",
       "           BX      35.830002   35.830002   36.020000   34.950001   35.000000   \n",
       "           CMCSA   42.439999   42.439999   42.840000   41.959999   42.500000   \n",
       "           CVX    131.020004  131.020004  132.559998  130.729996  132.380005   \n",
       "           MDT     85.230003   85.230003   86.220001   84.980003   86.220001   \n",
       "           MS      56.910000   56.910000   57.310001   56.650002   57.139999   \n",
       "           PM     109.529999  109.529999  109.779999  108.400002  108.500000   \n",
       "           SUN     32.410000   32.410000   32.880001   32.279999   32.599998   \n",
       "           UN      57.910000   57.910000   58.169998   57.730000   57.910000   \n",
       "\n",
       "                      Volume  \n",
       "Date       minor              \n",
       "2018-01-24 ABT    11704900.0  \n",
       "           BX      5629000.0  \n",
       "           CMCSA  48918800.0  \n",
       "           CVX     6868200.0  \n",
       "           MDT     5680200.0  \n",
       "           MS      8403600.0  \n",
       "           PM      4404100.0  \n",
       "           SUN      490200.0  \n",
       "           UN      1281200.0  \n",
       "2018-01-23 ABT     8122100.0  \n",
       "           BX      4987700.0  \n",
       "           CMCSA  19155500.0  \n",
       "           CVX     5747300.0  \n",
       "           MDT     4962300.0  \n",
       "           MS      9372200.0  \n",
       "           PM      3778100.0  \n",
       "           SUN      413700.0  \n",
       "           UN      1075000.0  "
      ]
     },
     "execution_count": 167,
     "metadata": {},
     "output_type": "execute_result"
    }
   ],
   "source": [
    "aaa"
   ]
  },
  {
   "cell_type": "code",
   "execution_count": 132,
   "metadata": {},
   "outputs": [
    {
     "data": {
      "text/plain": [
       "MultiIndex(levels=[[2018-01-24 00:00:00, 2018-01-23 00:00:00], [u'ABT', u'BX', u'CMCSA', u'CVX', u'MDT', u'MS', u'PM', u'SUN', u'UN']],\n",
       "           labels=[[0, 0, 0, 0, 0, 0, 0, 0, 0, 1, 1, 1, 1, 1, 1, 1, 1, 1], [0, 1, 2, 3, 4, 5, 6, 7, 8, 0, 1, 2, 3, 4, 5, 6, 7, 8]],\n",
       "           names=[u'Date', u'minor'])"
      ]
     },
     "execution_count": 132,
     "metadata": {},
     "output_type": "execute_result"
    }
   ],
   "source": [
    "aaa.index"
   ]
  },
  {
   "cell_type": "code",
   "execution_count": 114,
   "metadata": {},
   "outputs": [
    {
     "data": {
      "text/plain": [
       "Timestamp('2018-01-24 00:00:00')"
      ]
     },
     "execution_count": 114,
     "metadata": {},
     "output_type": "execute_result"
    }
   ],
   "source": [
    "aaa.index.levels[0][0]"
   ]
  },
  {
   "cell_type": "code",
   "execution_count": 106,
   "metadata": {},
   "outputs": [
    {
     "data": {
      "text/plain": [
       "Index([u'Adj Close', u'Close', u'High', u'Low', u'Open', u'Volume'], dtype='object')"
      ]
     },
     "execution_count": 106,
     "metadata": {},
     "output_type": "execute_result"
    }
   ],
   "source": [
    "aaa.columns"
   ]
  },
  {
   "cell_type": "code",
   "execution_count": 177,
   "metadata": {},
   "outputs": [
    {
     "data": {
      "text/plain": [
       "FrozenList([u'Date', u'minor'])"
      ]
     },
     "execution_count": 177,
     "metadata": {},
     "output_type": "execute_result"
    }
   ],
   "source": [
    "aaa.index.names"
   ]
  },
  {
   "cell_type": "code",
   "execution_count": 188,
   "metadata": {},
   "outputs": [
    {
     "data": {
      "text/html": [
       "<div>\n",
       "<style>\n",
       "    .dataframe thead tr:only-child th {\n",
       "        text-align: right;\n",
       "    }\n",
       "\n",
       "    .dataframe thead th {\n",
       "        text-align: left;\n",
       "    }\n",
       "\n",
       "    .dataframe tbody tr th {\n",
       "        vertical-align: top;\n",
       "    }\n",
       "</style>\n",
       "<table border=\"1\" class=\"dataframe\">\n",
       "  <thead>\n",
       "    <tr style=\"text-align: right;\">\n",
       "      <th></th>\n",
       "      <th></th>\n",
       "      <th>Adj Close</th>\n",
       "      <th>Close</th>\n",
       "      <th>High</th>\n",
       "      <th>Low</th>\n",
       "      <th>Open</th>\n",
       "      <th>Volume</th>\n",
       "    </tr>\n",
       "    <tr>\n",
       "      <th>Date</th>\n",
       "      <th>minor</th>\n",
       "      <th></th>\n",
       "      <th></th>\n",
       "      <th></th>\n",
       "      <th></th>\n",
       "      <th></th>\n",
       "      <th></th>\n",
       "    </tr>\n",
       "  </thead>\n",
       "  <tbody>\n",
       "    <tr>\n",
       "      <th rowspan=\"9\" valign=\"top\">2018-01-24</th>\n",
       "      <th>ABT</th>\n",
       "      <td>61.720001</td>\n",
       "      <td>61.720001</td>\n",
       "      <td>64.160004</td>\n",
       "      <td>60.740002</td>\n",
       "      <td>61.000000</td>\n",
       "      <td>11704900.0</td>\n",
       "    </tr>\n",
       "    <tr>\n",
       "      <th>BX</th>\n",
       "      <td>36.080002</td>\n",
       "      <td>36.080002</td>\n",
       "      <td>36.330002</td>\n",
       "      <td>35.680000</td>\n",
       "      <td>36.250000</td>\n",
       "      <td>5629000.0</td>\n",
       "    </tr>\n",
       "    <tr>\n",
       "      <th>CMCSA</th>\n",
       "      <td>42.990002</td>\n",
       "      <td>42.990002</td>\n",
       "      <td>44.000000</td>\n",
       "      <td>41.570000</td>\n",
       "      <td>42.700001</td>\n",
       "      <td>48918800.0</td>\n",
       "    </tr>\n",
       "    <tr>\n",
       "      <th>CVX</th>\n",
       "      <td>131.389999</td>\n",
       "      <td>131.389999</td>\n",
       "      <td>132.669998</td>\n",
       "      <td>131.070007</td>\n",
       "      <td>131.380005</td>\n",
       "      <td>6868200.0</td>\n",
       "    </tr>\n",
       "    <tr>\n",
       "      <th>MDT</th>\n",
       "      <td>85.760002</td>\n",
       "      <td>85.760002</td>\n",
       "      <td>86.129997</td>\n",
       "      <td>85.160004</td>\n",
       "      <td>85.830002</td>\n",
       "      <td>5680200.0</td>\n",
       "    </tr>\n",
       "    <tr>\n",
       "      <th>MS</th>\n",
       "      <td>57.240002</td>\n",
       "      <td>57.240002</td>\n",
       "      <td>57.730000</td>\n",
       "      <td>56.900002</td>\n",
       "      <td>57.209999</td>\n",
       "      <td>8403600.0</td>\n",
       "    </tr>\n",
       "    <tr>\n",
       "      <th>PM</th>\n",
       "      <td>110.599998</td>\n",
       "      <td>110.599998</td>\n",
       "      <td>110.889999</td>\n",
       "      <td>109.559998</td>\n",
       "      <td>109.559998</td>\n",
       "      <td>4404100.0</td>\n",
       "    </tr>\n",
       "    <tr>\n",
       "      <th>SUN</th>\n",
       "      <td>32.540001</td>\n",
       "      <td>32.540001</td>\n",
       "      <td>33.040001</td>\n",
       "      <td>32.419998</td>\n",
       "      <td>32.529999</td>\n",
       "      <td>490200.0</td>\n",
       "    </tr>\n",
       "    <tr>\n",
       "      <th>UN</th>\n",
       "      <td>58.240002</td>\n",
       "      <td>58.240002</td>\n",
       "      <td>58.320000</td>\n",
       "      <td>57.990002</td>\n",
       "      <td>58.279999</td>\n",
       "      <td>1281200.0</td>\n",
       "    </tr>\n",
       "  </tbody>\n",
       "</table>\n",
       "</div>"
      ],
      "text/plain": [
       "                   Adj Close       Close        High         Low        Open  \\\n",
       "Date       minor                                                               \n",
       "2018-01-24 ABT     61.720001   61.720001   64.160004   60.740002   61.000000   \n",
       "           BX      36.080002   36.080002   36.330002   35.680000   36.250000   \n",
       "           CMCSA   42.990002   42.990002   44.000000   41.570000   42.700001   \n",
       "           CVX    131.389999  131.389999  132.669998  131.070007  131.380005   \n",
       "           MDT     85.760002   85.760002   86.129997   85.160004   85.830002   \n",
       "           MS      57.240002   57.240002   57.730000   56.900002   57.209999   \n",
       "           PM     110.599998  110.599998  110.889999  109.559998  109.559998   \n",
       "           SUN     32.540001   32.540001   33.040001   32.419998   32.529999   \n",
       "           UN      58.240002   58.240002   58.320000   57.990002   58.279999   \n",
       "\n",
       "                      Volume  \n",
       "Date       minor              \n",
       "2018-01-24 ABT    11704900.0  \n",
       "           BX      5629000.0  \n",
       "           CMCSA  48918800.0  \n",
       "           CVX     6868200.0  \n",
       "           MDT     5680200.0  \n",
       "           MS      8403600.0  \n",
       "           PM      4404100.0  \n",
       "           SUN      490200.0  \n",
       "           UN      1281200.0  "
      ]
     },
     "execution_count": 188,
     "metadata": {},
     "output_type": "execute_result"
    }
   ],
   "source": [
    "aaa.drop(start_date - timedelta(days=1) , level=0, axis=0)"
   ]
  },
  {
   "cell_type": "code",
   "execution_count": 149,
   "metadata": {},
   "outputs": [],
   "source": [
    "from datetime import timedelta"
   ]
  },
  {
   "cell_type": "code",
   "execution_count": 151,
   "metadata": {},
   "outputs": [
    {
     "data": {
      "text/plain": [
       "datetime.date(2018, 1, 23)"
      ]
     },
     "execution_count": 151,
     "metadata": {},
     "output_type": "execute_result"
    }
   ],
   "source": [
    "start_date - timedelta(days=1)"
   ]
  },
  {
   "cell_type": "code",
   "execution_count": 173,
   "metadata": {},
   "outputs": [
    {
     "data": {
      "text/plain": [
       "datetime.date(2018, 1, 23)"
      ]
     },
     "execution_count": 173,
     "metadata": {},
     "output_type": "execute_result"
    }
   ],
   "source": [
    "start_date - timedelta(days=1)"
   ]
  },
  {
   "cell_type": "code",
   "execution_count": null,
   "metadata": {
    "collapsed": true
   },
   "outputs": [],
   "source": []
  }
 ],
 "metadata": {
  "kernelspec": {
   "display_name": "Python 2",
   "language": "python",
   "name": "python2"
  },
  "language_info": {
   "codemirror_mode": {
    "name": "ipython",
    "version": 2
   },
   "file_extension": ".py",
   "mimetype": "text/x-python",
   "name": "python",
   "nbconvert_exporter": "python",
   "pygments_lexer": "ipython2",
   "version": "2.7.13"
  }
 },
 "nbformat": 4,
 "nbformat_minor": 2
}
